{
 "cells": [
  {
   "cell_type": "code",
   "execution_count": null,
   "id": "4a32c9cb",
   "metadata": {
    "id": "4a32c9cb"
   },
   "outputs": [],
   "source": [
    "# import libraries\n",
    "import matplotlib.pyplot as plt\n",
    "import numpy as np\n",
    "\n",
    "import utils"
   ]
  },
  {
   "cell_type": "code",
   "execution_count": null,
   "id": "672f1862",
   "metadata": {},
   "outputs": [],
   "source": [
    "# load wind farm\n",
    "x, y, wfm_high, wfm_low, wfm_lossless = utils.get_wind_farm_model()\n",
    "power_installed = (\n",
    "    wfm_high.windTurbines.powerCtFunction.power_ct_tab[0].max() / 1e9 * len(x)\n",
    ")"
   ]
  },
  {
   "cell_type": "code",
   "execution_count": null,
   "id": "0f3ccc77",
   "metadata": {},
   "outputs": [],
   "source": [
    "# visualise wind distribution\n",
    "_ = wfm_low.site.plot_wd_distribution(n_wd=12, ws_bins=[0, 5, 10, 15, 20, 25, 30])"
   ]
  },
  {
   "cell_type": "code",
   "execution_count": null,
   "id": "8a5a60d1",
   "metadata": {},
   "outputs": [],
   "source": [
    "# run simulation\n",
    "sim_res = wfm_low(\n",
    "    x=x,\n",
    "    y=y,\n",
    "    tilt=0,\n",
    "    yaw=0,\n",
    "    n_cpu=None,\n",
    "    ws=np.arange(0, 31, 10),\n",
    "    wd=np.arange(0, 360, 60),\n",
    ")\n",
    "sim_res"
   ]
  },
  {
   "cell_type": "code",
   "execution_count": null,
   "id": "ae5baa44",
   "metadata": {},
   "outputs": [],
   "source": [
    "# lcoe\n",
    "(\n",
    "    utils.OPEX_GWy * power_installed * sim_res.P.sum()\n",
    "    + utils.CAPEX_GW / utils.LIFESPAN * power_installed * sim_res.P.sum()\n",
    ") / (sim_res.aep().sum() * 1000)"
   ]
  },
  {
   "cell_type": "code",
   "execution_count": null,
   "id": "d0e7d7cc",
   "metadata": {},
   "outputs": [],
   "source": [
    "# capacity factor\n",
    "sim_res.aep().sum() / (power_installed * 365.25 * 24)"
   ]
  },
  {
   "cell_type": "code",
   "execution_count": null,
   "id": "16fea606",
   "metadata": {
    "id": "16fea606",
    "outputId": "c467b22b-a8a0-43ef-c275-182d4e0e5336"
   },
   "outputs": [],
   "source": [
    "# # plot flow map\n",
    "# fig, ax = plt.subplots()\n",
    "# fm = sim_res.flow_map()\n",
    "# fm.plot_wake_map(ax=ax)\n",
    "# ax.grid()\n",
    "# fig.tight_layout()\n",
    "# fm"
   ]
  }
 ],
 "metadata": {
  "colab": {
   "provenance": []
  },
  "kernelspec": {
   "display_name": "Python 3 (ipykernel)",
   "language": "python",
   "name": "python3"
  },
  "language_info": {
   "codemirror_mode": {
    "name": "ipython",
    "version": 3
   },
   "file_extension": ".py",
   "mimetype": "text/x-python",
   "name": "python",
   "nbconvert_exporter": "python",
   "pygments_lexer": "ipython3",
   "version": "3.12.1"
  }
 },
 "nbformat": 4,
 "nbformat_minor": 5
}
