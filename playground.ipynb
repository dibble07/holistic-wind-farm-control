{
  "cells": [
    {
      "cell_type": "code",
      "execution_count": null,
      "id": "4a32c9cb",
      "metadata": {
        "id": "4a32c9cb"
      },
      "outputs": [],
      "source": [
        "import matplotlib.pyplot as plt\n",
        "from py_wake.deficit_models import FugaDeficit, ZongGaussianDeficit\n",
        "from py_wake.deflection_models import FugaDeflection, JimenezWakeDeflection\n",
        "from py_wake.examples.data.hornsrev1 import Hornsrev1Site, V80, wt9_x as x, wt9_y as y\n",
        "from py_wake.rotor_avg_models import CGIRotorAvg\n",
        "from py_wake.superposition_models import LinearSum\n",
        "from py_wake.turbulence_models import STF2017TurbulenceModel\n",
        "from py_wake.wind_farm_models import All2AllIterative, PropagateDownwind"
      ]
    },
    {
      "cell_type": "code",
      "execution_count": null,
      "id": "672f1862",
      "metadata": {},
      "outputs": [],
      "source": [
        "wfm = PropagateDownwind(\n",
        "    site = Hornsrev1Site(),\n",
        "    windTurbines = V80(),\n",
        "    wake_deficitModel=ZongGaussianDeficit(use_effective_ws=True,),\n",
        "    superpositionModel=LinearSum(),\n",
        "    deflectionModel=JimenezWakeDeflection(),\n",
        "    turbulenceModel=STF2017TurbulenceModel(),\n",
        "    rotorAvgModel=None,\n",
        ")"
      ]
    },
    {
      "cell_type": "code",
      "execution_count": null,
      "id": "123c2a40",
      "metadata": {},
      "outputs": [],
      "source": [
        "wfm = All2AllIterative(\n",
        "    site = Hornsrev1Site(),\n",
        "    windTurbines = V80(),\n",
        "    wake_deficitModel=FugaDeficit(),\n",
        "    superpositionModel=LinearSum(),\n",
        "    deflectionModel=FugaDeflection(),\n",
        "    turbulenceModel=STF2017TurbulenceModel(),\n",
        "    rotorAvgModel=CGIRotorAvg(7),\n",
        ")"
      ]
    },
    {
      "cell_type": "code",
      "execution_count": null,
      "id": "8a5a60d1",
      "metadata": {},
      "outputs": [],
      "source": [
        "sim_res = wfm(x, y, wd=270, ws=10, yaw=0, tilt=0)\n",
        "sim_res"
      ]
    },
    {
      "cell_type": "code",
      "execution_count": null,
      "id": "9b07e094",
      "metadata": {},
      "outputs": [],
      "source": [
        "aep = sim_res.aep().sum()\n",
        "aep"
      ]
    },
    {
      "cell_type": "code",
      "execution_count": null,
      "id": "598e3f40",
      "metadata": {},
      "outputs": [],
      "source": [
        "fm = sim_res.flow_map()\n",
        "fm"
      ]
    },
    {
      "cell_type": "code",
      "execution_count": null,
      "id": "16fea606",
      "metadata": {
        "id": "16fea606",
        "outputId": "c467b22b-a8a0-43ef-c275-182d4e0e5336"
      },
      "outputs": [],
      "source": [
        "fig, ax = plt.subplots()\n",
        "fm.plot_wake_map(ax=ax)\n",
        "ax.grid()\n",
        "fig.tight_layout()"
      ]
    }
  ],
  "metadata": {
    "colab": {
      "provenance": []
    },
    "kernelspec": {
      "display_name": "Python 3 (ipykernel)",
      "language": "python",
      "name": "python3"
    },
    "language_info": {
      "codemirror_mode": {
        "name": "ipython",
        "version": 3
      },
      "file_extension": ".py",
      "mimetype": "text/x-python",
      "name": "python",
      "nbconvert_exporter": "python",
      "pygments_lexer": "ipython3",
      "version": "3.12.1"
    }
  },
  "nbformat": 4,
  "nbformat_minor": 5
}
