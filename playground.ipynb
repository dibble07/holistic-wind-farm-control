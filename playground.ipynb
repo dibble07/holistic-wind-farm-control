{
  "cells": [
    {
      "cell_type": "code",
      "execution_count": null,
      "id": "4a32c9cb",
      "metadata": {
        "id": "4a32c9cb"
      },
      "outputs": [],
      "source": [
        "import matplotlib.pyplot as plt\n",
        "from py_wake.deficit_models import NoWakeDeficit\n",
        "from py_wake.deflection_models import GCLHillDeflection\n",
        "from py_wake.examples.data.hornsrev1 import V80\n",
        "from py_wake.examples.data.hornsrev1 import Hornsrev1Site\n",
        "from py_wake.wind_farm_models import PropagateDownwind\n",
        "from py_wake.superposition_models import LinearSum"
      ]
    },
    {
      "cell_type": "code",
      "execution_count": null,
      "id": "672f1862",
      "metadata": {},
      "outputs": [],
      "source": [
        "site = Hornsrev1Site()\n",
        "x,y = site.initial_position.T\n",
        "wfm = PropagateDownwind(\n",
        "    site = site,\n",
        "    windTurbines = V80(),\n",
        "    wake_deficitModel=NoWakeDeficit(),\n",
        "    superpositionModel=LinearSum(),\n",
        "    deflectionModel=None,#GCLHillDeflection()\n",
        "    turbulenceModel=None,\n",
        "    rotorAvgModel=None,\n",
        ")"
      ]
    },
    {
      "cell_type": "code",
      "execution_count": null,
      "id": "8a5a60d1",
      "metadata": {},
      "outputs": [],
      "source": [
        "sim_res = wfm(x,y,wd=270)#, yaw=yaw\n",
        "sim_res"
      ]
    },
    {
      "cell_type": "code",
      "execution_count": null,
      "id": "598e3f40",
      "metadata": {},
      "outputs": [],
      "source": [
        "fm = sim_res.flow_map()\n",
        "fm"
      ]
    },
    {
      "cell_type": "code",
      "execution_count": null,
      "id": "8a506877",
      "metadata": {},
      "outputs": [],
      "source": [
        "# center_line = fm.min_WS_eff()\n",
        "# center_line"
      ]
    },
    {
      "cell_type": "code",
      "execution_count": null,
      "id": "16fea606",
      "metadata": {
        "id": "16fea606",
        "outputId": "c467b22b-a8a0-43ef-c275-182d4e0e5336"
      },
      "outputs": [],
      "source": [
        "fig, ax = plt.subplots()\n",
        "fm.plot_wake_map(ax=ax)\n",
        "# ax.plot(center_line.x, center_line.values,'--k')\n",
        "ax.grid()\n",
        "fig.tight_layout()"
      ]
    }
  ],
  "metadata": {
    "colab": {
      "provenance": []
    },
    "kernelspec": {
      "display_name": "Python 3 (ipykernel)",
      "language": "python",
      "name": "python3"
    },
    "language_info": {
      "codemirror_mode": {
        "name": "ipython",
        "version": 3
      },
      "file_extension": ".py",
      "mimetype": "text/x-python",
      "name": "python",
      "nbconvert_exporter": "python",
      "pygments_lexer": "ipython3",
      "version": "3.12.1"
    }
  },
  "nbformat": 4,
  "nbformat_minor": 5
}
