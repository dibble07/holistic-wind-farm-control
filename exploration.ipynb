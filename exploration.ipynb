{
 "cells": [
  {
   "cell_type": "markdown",
   "id": "70669641",
   "metadata": {},
   "source": [
    "# Explore feature space"
   ]
  },
  {
   "cell_type": "markdown",
   "id": "188b26ed",
   "metadata": {},
   "source": [
    "## Setup"
   ]
  },
  {
   "cell_type": "code",
   "execution_count": null,
   "id": "4a32c9cb",
   "metadata": {
    "id": "4a32c9cb"
   },
   "outputs": [],
   "source": [
    "# import libraries\n",
    "import os\n",
    "from itertools import product\n",
    "\n",
    "import matplotlib.pyplot as plt\n",
    "import numpy as np\n",
    "import xarray as xr\n",
    "from pqdm.processes import pqdm\n",
    "from tqdm.notebook import tqdm\n",
    "\n",
    "import utils"
   ]
  },
  {
   "cell_type": "code",
   "execution_count": null,
   "id": "db454026",
   "metadata": {},
   "outputs": [],
   "source": [
    "# visualise wind distribution\n",
    "fig, ax = plt.subplots(figsize=(6, 4))\n",
    "_ = utils.wfm_low.site.plot_wd_distribution(\n",
    "    n_wd=8, ws_bins=[0, 5, 10, 15, 20, 25, 30], ax=ax\n",
    ")\n",
    "fig.tight_layout()"
   ]
  },
  {
   "cell_type": "code",
   "execution_count": null,
   "id": "0f3ccc77",
   "metadata": {},
   "outputs": [],
   "source": [
    "# visualise turbine power curve\n",
    "fig, ax = plt.subplots(figsize=(4, 4))\n",
    "ws = np.linspace(0, 30, 100)\n",
    "ax.plot(ws, utils.wfm_low.windTurbines.power(ws) / 1e6)\n",
    "ax.set_xlabel(\"Wind speed [m/s]\")\n",
    "ax.set_ylabel(\"Power [MW]\")\n",
    "fig.tight_layout()"
   ]
  },
  {
   "cell_type": "markdown",
   "id": "4898f447",
   "metadata": {},
   "source": [
    "## Baseline value"
   ]
  },
  {
   "cell_type": "code",
   "execution_count": null,
   "id": "8a5a60d1",
   "metadata": {},
   "outputs": [],
   "source": [
    "# run simulation\n",
    "sim_res_base = utils.run_sim()\n",
    "_ = utils.calc_metrics(sim_res=sim_res_base, show=True)"
   ]
  },
  {
   "cell_type": "markdown",
   "id": "5be4634d",
   "metadata": {},
   "source": [
    "## Assess across coarse range of yaw combinations for all turbines"
   ]
  },
  {
   "cell_type": "code",
   "execution_count": null,
   "id": "36b95d44",
   "metadata": {},
   "outputs": [],
   "source": [
    "coarse_dir = os.path.join(\"data\", \"coarse_sweep.h5\")\n",
    "yaw_ind_coarse = {f\"yaw_{i}\": [-5, 0, 5] for i in sim_res_base.wt.values}\n",
    "if os.path.isfile(coarse_dir):\n",
    "    ds_coarse = xr.open_dataset(coarse_dir)\n",
    "else:\n",
    "    # initialise dataset\n",
    "    nt = len(sim_res_base.wt)\n",
    "    power_installed = (\n",
    "        sim_res_base.windFarmModel.windTurbines.powerCtFunction.power_ct_tab[0].max()\n",
    "        / 1e9\n",
    "        * nt\n",
    "    )\n",
    "    ds_coarse = xr.Dataset(\n",
    "        data_vars={\n",
    "            \"lcoe\": (\n",
    "                yaw_ind_coarse.keys(),\n",
    "                np.zeros(tuple(len(x) for x in yaw_ind_coarse.values())),\n",
    "            ),\n",
    "            \"cap_fac\": (\n",
    "                yaw_ind_coarse.keys(),\n",
    "                np.zeros(tuple(len(x) for x in yaw_ind_coarse.values())),\n",
    "            ),\n",
    "            \"aep\": (\n",
    "                [\"wt\"] + list(yaw_ind_coarse.keys()),\n",
    "                np.zeros((nt,) + tuple(len(x) for x in yaw_ind_coarse.values())),\n",
    "            ),\n",
    "        },\n",
    "        coords={\"wt\": list(sim_res_base.wt.values)} | yaw_ind_coarse,\n",
    "    )\n",
    "    # calculate across full range of options\n",
    "    yaw_options_coarse = list(product(*yaw_ind_coarse.values()))\n",
    "    simulations = {\n",
    "        k: v\n",
    "        for k, v in zip(\n",
    "            yaw_options_coarse,\n",
    "            pqdm(\n",
    "                [{\"yaw\": x} for x in yaw_options_coarse],\n",
    "                utils.run_sim,\n",
    "                n_jobs=int(0.75 * os.cpu_count()),\n",
    "                argument_type=\"kwargs\",\n",
    "            ),\n",
    "        )\n",
    "    }\n",
    "    for yaw_option, sim_res in simulations.items():\n",
    "        lcoe, cap_fac = utils.calc_metrics(sim_res)\n",
    "        ds_coarse[\"lcoe\"].loc[*yaw_option] = lcoe\n",
    "        ds_coarse[\"cap_fac\"].loc[*yaw_option] = cap_fac\n",
    "        ds_coarse[\"aep\"].loc[:, *yaw_option] = sim_res.aep().sum([\"wt\", \"ws\"]).values\n",
    "    # save file\n",
    "    ds_coarse.to_netcdf(coarse_dir)"
   ]
  },
  {
   "cell_type": "code",
   "execution_count": null,
   "id": "ea44aeb9",
   "metadata": {},
   "outputs": [],
   "source": [
    "# flatten and sort values\n",
    "flat_lcoe_coarse = ds_coarse.lcoe.stack(all_dims=yaw_ind_coarse.keys())\n",
    "flat_lcoe_coarse = flat_lcoe_coarse.sortby(flat_lcoe_coarse)\n",
    "display(flat_lcoe_coarse)\n",
    "yaw_opt_coarse = flat_lcoe_coarse[\"all_dims\"][0].values.tolist()"
   ]
  },
  {
   "cell_type": "code",
   "execution_count": null,
   "id": "2ea9f3f5",
   "metadata": {},
   "outputs": [],
   "source": [
    "# plot distribution of values\n",
    "fig, ax = plt.subplots(ncols=2, figsize=(8, 3))\n",
    "_ = ds_coarse.lcoe.plot.hist(bins=25, ax=ax[0])\n",
    "_ = ds_coarse.cap_fac.plot.hist(bins=25, ax=ax[1])\n",
    "fig.tight_layout()"
   ]
  },
  {
   "cell_type": "code",
   "execution_count": null,
   "id": "887ed8ef",
   "metadata": {},
   "outputs": [],
   "source": [
    "# run simulation using optimum yaw\n",
    "sim_res_opt = utils.run_sim(yaw=yaw_opt_coarse)\n",
    "print(\"--- Base ---\")\n",
    "_ = utils.calc_metrics(sim_res_base, show=True)\n",
    "print(\"\\n--- Optimum ---\")\n",
    "_ = utils.calc_metrics(sim_res_opt, show=True)"
   ]
  },
  {
   "cell_type": "code",
   "execution_count": null,
   "id": "16fea606",
   "metadata": {
    "id": "16fea606",
    "outputId": "c467b22b-a8a0-43ef-c275-182d4e0e5336"
   },
   "outputs": [],
   "source": [
    "# plot flow map\n",
    "fig, ax = plt.subplots(figsize=(5, 4))\n",
    "fm = utils.run_sim(yaw=yaw_opt_coarse, ws=12).flow_map()\n",
    "fm.plot_wake_map(ax=ax)\n",
    "ax.grid()\n",
    "fig.tight_layout()"
   ]
  },
  {
   "cell_type": "markdown",
   "id": "d145d3be",
   "metadata": {},
   "source": [
    "Observations\n",
    "- Small but noticeable improvement in capacity factor and LCoE\n",
    "- Movement of only front row is all that is needed\n",
    "- Direction of movement in turbines appears independent across rows"
   ]
  },
  {
   "cell_type": "markdown",
   "id": "e8c21da8",
   "metadata": {},
   "source": [
    "## Assess across fine range of yaw combinations for two turbines"
   ]
  },
  {
   "cell_type": "code",
   "execution_count": null,
   "id": "732a28ff",
   "metadata": {},
   "outputs": [],
   "source": [
    "fine_dir = os.path.join(\"data\", \"fine_sweep.h5\")\n",
    "yaw_ind_fine = {\n",
    "    f\"yaw_{i}\": np.arange(-30, 30.5, 0.5) for i in sim_res_base.wt.values[[1, 4]]\n",
    "}\n",
    "if os.path.isfile(fine_dir):\n",
    "    ds_fine = xr.open_dataset(fine_dir)\n",
    "else:\n",
    "    # initialise dataset\n",
    "    nt = len(sim_res_base.wt)\n",
    "    power_installed = (\n",
    "        sim_res_base.windFarmModel.windTurbines.powerCtFunction.power_ct_tab[0].max()\n",
    "        / 1e9\n",
    "        * nt\n",
    "    )\n",
    "    ds_fine = xr.Dataset(\n",
    "        data_vars={\n",
    "            \"lcoe\": (\n",
    "                yaw_ind_fine.keys(),\n",
    "                np.zeros(tuple(len(x) for x in yaw_ind_fine.values())),\n",
    "            ),\n",
    "            \"cap_fac\": (\n",
    "                yaw_ind_fine.keys(),\n",
    "                np.zeros(tuple(len(x) for x in yaw_ind_fine.values())),\n",
    "            ),\n",
    "            \"aep\": (\n",
    "                [\"wt\"] + list(yaw_ind_fine.keys()),\n",
    "                np.zeros((nt,) + tuple(len(x) for x in yaw_ind_fine.values())),\n",
    "            ),\n",
    "        },\n",
    "        coords={\"wt\": list(sim_res_base.wt.values)} | yaw_ind_fine,\n",
    "    )\n",
    "    # calculate across full range of options\n",
    "    yaw_options_fine = list(\n",
    "        product(*[yaw_ind_fine.get(f\"yaw_{x}\", [0]) for x in sim_res_base.wt.values])\n",
    "    )\n",
    "    simulations = {\n",
    "        k: v\n",
    "        for k, v in zip(\n",
    "            yaw_options_fine,\n",
    "            pqdm(\n",
    "                [{\"yaw\": x} for x in yaw_options_fine],\n",
    "                utils.run_sim,\n",
    "                n_jobs=int(0.75 * os.cpu_count()),\n",
    "                argument_type=\"kwargs\",\n",
    "            ),\n",
    "        )\n",
    "    }\n",
    "    for yaw_option, sim_res in simulations.items():\n",
    "        lcoe, cap_fac = utils.calc_metrics(sim_res)\n",
    "        ds_fine[\"lcoe\"].loc[yaw_option[1], yaw_option[4]] = lcoe\n",
    "        ds_fine[\"cap_fac\"].loc[yaw_option[1], yaw_option[4]] = cap_fac\n",
    "        ds_fine[\"aep\"].loc[:, yaw_option[1], yaw_option[4]] = (\n",
    "            sim_res.aep().sum([\"wt\", \"ws\"]).values\n",
    "        )\n",
    "    # save file\n",
    "    ds_fine.to_netcdf(fine_dir)"
   ]
  },
  {
   "cell_type": "code",
   "execution_count": null,
   "id": "f5799efc",
   "metadata": {},
   "outputs": [],
   "source": [
    "# flatten and sort values\n",
    "flat_lcoe_fine = ds_fine.lcoe.stack(all_dims=yaw_ind_fine.keys())\n",
    "flat_lcoe_fine = flat_lcoe_fine.sortby(flat_lcoe_fine)\n",
    "display(flat_lcoe_fine)\n",
    "yaw_opt_fine = list((0,) * len(ds_fine.wt))\n",
    "yaw_opt_fine[1], yaw_opt_fine[4] = flat_lcoe_fine[\"all_dims\"][0].values.tolist()\n",
    "yaw_opt_fine = tuple(yaw_opt_fine)"
   ]
  },
  {
   "cell_type": "code",
   "execution_count": null,
   "id": "bb3b1b18",
   "metadata": {},
   "outputs": [],
   "source": [
    "# plot distribution of values\n",
    "fig, ax = plt.subplots(ncols=2, figsize=(8, 3))\n",
    "_ = ds_fine.lcoe.plot.contourf(levels=25, ax=ax[0])\n",
    "_ = ds_fine.cap_fac.plot.contourf(levels=25, ax=ax[1])\n",
    "fig.tight_layout()"
   ]
  },
  {
   "cell_type": "code",
   "execution_count": null,
   "id": "b47d85fb",
   "metadata": {},
   "outputs": [],
   "source": [
    "# run simulation using optimum yaw\n",
    "sim_res_opt = utils.run_sim(yaw=yaw_opt_fine)\n",
    "print(\"--- Base ---\")\n",
    "_ = utils.calc_metrics(sim_res_base, show=True)\n",
    "print(\"\\n--- Optimum ---\")\n",
    "_ = utils.calc_metrics(sim_res_opt, show=True)"
   ]
  },
  {
   "cell_type": "code",
   "execution_count": null,
   "id": "e9eb0a2e",
   "metadata": {},
   "outputs": [],
   "source": [
    "# plot flow map\n",
    "fig, ax = plt.subplots(figsize=(5, 4))\n",
    "fm = utils.run_sim(yaw=yaw_opt_fine, ws=12).flow_map()\n",
    "fm.plot_wake_map(ax=ax)\n",
    "ax.grid()\n",
    "fig.tight_layout()"
   ]
  },
  {
   "cell_type": "markdown",
   "id": "6424eded",
   "metadata": {},
   "source": [
    "Observations\n",
    "- Larger improvement in performance due to larger yaw angles, despite only altering one of three rows of turbines\n",
    "- Movement of only front row still yields best results\n",
    "    - May be due to yawing producing no losses when wind speed above max power speed\n",
    "- Direction of movement remains irrelevant\n",
    "- Off design performance is good - not too sensitive near optimum"
   ]
  }
 ],
 "metadata": {
  "colab": {
   "provenance": []
  },
  "kernelspec": {
   "display_name": "Python 3 (ipykernel)",
   "language": "python",
   "name": "python3"
  },
  "language_info": {
   "codemirror_mode": {
    "name": "ipython",
    "version": 3
   },
   "file_extension": ".py",
   "mimetype": "text/x-python",
   "name": "python",
   "nbconvert_exporter": "python",
   "pygments_lexer": "ipython3",
   "version": "3.12.1"
  }
 },
 "nbformat": 4,
 "nbformat_minor": 5
}
