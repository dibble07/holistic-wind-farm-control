{
 "cells": [
  {
   "cell_type": "markdown",
   "id": "70669641",
   "metadata": {},
   "source": [
    "# Explore feature space"
   ]
  },
  {
   "cell_type": "markdown",
   "id": "188b26ed",
   "metadata": {},
   "source": [
    "## Setup"
   ]
  },
  {
   "cell_type": "code",
   "execution_count": null,
   "id": "4a32c9cb",
   "metadata": {
    "id": "4a32c9cb"
   },
   "outputs": [],
   "source": [
    "# import libraries\n",
    "import os\n",
    "from itertools import product\n",
    "\n",
    "import matplotlib.pyplot as plt\n",
    "import numpy as np\n",
    "import xarray as xr\n",
    "from pqdm.processes import pqdm\n",
    "from tqdm.notebook import tqdm\n",
    "\n",
    "import utils"
   ]
  },
  {
   "cell_type": "code",
   "execution_count": null,
   "id": "672f1862",
   "metadata": {},
   "outputs": [],
   "source": [
    "# load wind farm\n",
    "nt = len(utils.wt9_x)\n",
    "power_installed = (\n",
    "    utils.wfm_low.windTurbines.powerCtFunction.power_ct_tab[0].max() / 1e9 * nt\n",
    ")"
   ]
  },
  {
   "cell_type": "code",
   "execution_count": null,
   "id": "0f3ccc77",
   "metadata": {},
   "outputs": [],
   "source": [
    "# visualise wind distribution\n",
    "_ = utils.wfm_low.site.plot_wd_distribution(n_wd=8, ws_bins=[0, 5, 10, 15, 20, 25, 30])"
   ]
  },
  {
   "cell_type": "markdown",
   "id": "4898f447",
   "metadata": {},
   "source": [
    "## Baseline value"
   ]
  },
  {
   "cell_type": "code",
   "execution_count": null,
   "id": "8a5a60d1",
   "metadata": {},
   "outputs": [],
   "source": [
    "# run simulation\n",
    "sim_res = utils.run_sim()\n",
    "print(\n",
    "    f\"LCoE [USD/MWh]: {(utils.OPEX_GWy + utils.CAPEX_GW / utils.LIFESPAN) * power_installed / (sim_res.aep().sum().values * 1000):,.3f}\"\n",
    ")\n",
    "print(\n",
    "    f\"Capacity factor [%]: {sim_res.aep().sum().values / (power_installed * 365.25 * 24)*100:,.2f}\"\n",
    ")\n",
    "sim_res"
   ]
  },
  {
   "cell_type": "markdown",
   "id": "5be4634d",
   "metadata": {},
   "source": [
    "## Assess across coarse range of yaw combinations for all turbines"
   ]
  },
  {
   "cell_type": "code",
   "execution_count": null,
   "id": "36b95d44",
   "metadata": {},
   "outputs": [],
   "source": [
    "coarse_dir = os.path.join(\"data\", \"coarse_sweep.h5\")\n",
    "yaw_ind = {f\"yaw_{i}\": [-5, 0, 5] for i in sim_res.wt.values}\n",
    "if os.path.isfile(coarse_dir):\n",
    "    ds = xr.open_dataset(coarse_dir)\n",
    "else:\n",
    "    # initialise dataset\n",
    "    ds = xr.Dataset(\n",
    "        data_vars={\n",
    "            \"lcoe\": ([f\"yaw_{i}\" for i in sim_res.wt.values], np.zeros((3,) * nt)),\n",
    "            \"cap_fac\": ([f\"yaw_{i}\" for i in sim_res.wt.values], np.zeros((3,) * nt)),\n",
    "            \"aep\": (\n",
    "                [\"wt\"] + [f\"yaw_{i}\" for i in sim_res.wt.values],\n",
    "                np.zeros((nt,) + (3,) * nt),\n",
    "            ),\n",
    "        },\n",
    "        coords={\"wd\": list(sim_res.wt.values)} | yaw_ind,\n",
    "    )\n",
    "    # calculate across full range of options\n",
    "    yaw_options = list(product(*yaw_ind.values()))\n",
    "    simulations = {\n",
    "        k: v\n",
    "        for k, v in zip(\n",
    "            yaw_options,\n",
    "            pqdm(\n",
    "                [{\"yaw\": x} for x in yaw_options],\n",
    "                utils.run_sim,\n",
    "                n_jobs=int(0.75 * os.cpu_count()),\n",
    "                argument_type=\"kwargs\",\n",
    "            ),\n",
    "        )\n",
    "    }\n",
    "    for yaw_option, sim_res in simulations.items():\n",
    "        ds[\"lcoe\"].loc[*yaw_option] = (\n",
    "            (utils.OPEX_GWy + utils.CAPEX_GW / utils.LIFESPAN)\n",
    "            * power_installed\n",
    "            / (sim_res.aep().sum().values * 1000)\n",
    "        )\n",
    "        ds[\"cap_fac\"].loc[*yaw_option] = sim_res.aep().sum().values / (\n",
    "            power_installed * 365.25 * 24\n",
    "        )\n",
    "        ds[\"aep\"].loc[:, *yaw_option] = sim_res.aep().sum([\"wd\", \"ws\"]).values\n",
    "    # save file\n",
    "    ds.to_netcdf(coarse_dir)"
   ]
  },
  {
   "cell_type": "code",
   "execution_count": null,
   "id": "ea44aeb9",
   "metadata": {},
   "outputs": [],
   "source": [
    "# flatten and sort values\n",
    "flat_lcoe = ds.lcoe.stack(all_dims=yaw_ind.keys())\n",
    "yaw_sorted = flat_lcoe[\"all_dims\"][np.argsort(flat_lcoe.values)]\n",
    "display(yaw_sorted)\n",
    "yaw_opt = yaw_sorted[0].values.tolist()"
   ]
  },
  {
   "cell_type": "code",
   "execution_count": null,
   "id": "2ea9f3f5",
   "metadata": {},
   "outputs": [],
   "source": [
    "# plot distribution of lcoe values\n",
    "_ = ds.lcoe.plot.hist(bins=25)"
   ]
  },
  {
   "cell_type": "code",
   "execution_count": null,
   "id": "e20d05b3",
   "metadata": {},
   "outputs": [],
   "source": [
    "# plot distribution of capacity factor values\n",
    "_ = ds.cap_fac.plot.hist(bins=25)"
   ]
  },
  {
   "cell_type": "code",
   "execution_count": null,
   "id": "887ed8ef",
   "metadata": {},
   "outputs": [],
   "source": [
    "# run simulation using optimum yaw\n",
    "sim_res_opt = utils.run_sim(yaw=yaw_opt)\n",
    "print(\n",
    "    f\"LCoE [USD/MWh]: {(utils.OPEX_GWy + utils.CAPEX_GW / utils.LIFESPAN) * power_installed / (sim_res_opt.aep().sum().values * 1000):,.3f}\"\n",
    ")\n",
    "print(\n",
    "    f\"Capacity factor [%]: {sim_res_opt.aep().sum().values / (power_installed * 365.25 * 24)*100:,.2f}\"\n",
    ")"
   ]
  },
  {
   "cell_type": "code",
   "execution_count": null,
   "id": "16fea606",
   "metadata": {
    "id": "16fea606",
    "outputId": "c467b22b-a8a0-43ef-c275-182d4e0e5336"
   },
   "outputs": [],
   "source": [
    "# plot flow map\n",
    "fig, ax = plt.subplots()\n",
    "fm = utils.run_sim(yaw=yaw_opt, ws=12).flow_map()\n",
    "fm.plot_wake_map(ax=ax)\n",
    "ax.grid()\n",
    "fig.tight_layout()\n",
    "fm"
   ]
  }
 ],
 "metadata": {
  "colab": {
   "provenance": []
  },
  "kernelspec": {
   "display_name": "Python 3 (ipykernel)",
   "language": "python",
   "name": "python3"
  },
  "language_info": {
   "codemirror_mode": {
    "name": "ipython",
    "version": 3
   },
   "file_extension": ".py",
   "mimetype": "text/x-python",
   "name": "python",
   "nbconvert_exporter": "python",
   "pygments_lexer": "ipython3",
   "version": "3.12.1"
  }
 },
 "nbformat": 4,
 "nbformat_minor": 5
}
