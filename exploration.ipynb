{
 "cells": [
  {
   "cell_type": "markdown",
   "id": "70669641",
   "metadata": {},
   "source": [
    "# Explore feature space"
   ]
  },
  {
   "cell_type": "markdown",
   "id": "188b26ed",
   "metadata": {},
   "source": [
    "## Setup"
   ]
  },
  {
   "cell_type": "code",
   "execution_count": null,
   "id": "4a32c9cb",
   "metadata": {
    "id": "4a32c9cb"
   },
   "outputs": [],
   "source": [
    "# import libraries\n",
    "import os\n",
    "from itertools import product\n",
    "\n",
    "import matplotlib.pyplot as plt\n",
    "import numpy as np\n",
    "import xarray as xr\n",
    "from pqdm.processes import pqdm\n",
    "from tqdm.notebook import tqdm\n",
    "\n",
    "import utils"
   ]
  },
  {
   "cell_type": "code",
   "execution_count": null,
   "id": "db454026",
   "metadata": {},
   "outputs": [],
   "source": [
    "# visualise wind distribution\n",
    "fig, ax = plt.subplots(figsize=(6, 4))\n",
    "_ = utils.wfm_low.site.plot_wd_distribution(\n",
    "    n_wd=len(utils.WD_DEFAULT), ws_bins=[0, 5, 10, 15, 20, 25, 30], ax=ax\n",
    ")\n",
    "fig.tight_layout()"
   ]
  },
  {
   "cell_type": "code",
   "execution_count": null,
   "id": "0f3ccc77",
   "metadata": {},
   "outputs": [],
   "source": [
    "# visualise turbine power curve\n",
    "fig, ax = plt.subplots(figsize=(6, 3))\n",
    "ws = np.linspace(0, 30, 100)\n",
    "ax.plot(ws, utils.wfm_low.windTurbines.power(ws) / 1e6)\n",
    "ax.set_xlabel(\"Wind speed [m/s]\")\n",
    "ax.set_ylabel(\"Power [MW]\")\n",
    "fig.tight_layout()"
   ]
  },
  {
   "cell_type": "markdown",
   "id": "4898f447",
   "metadata": {},
   "source": [
    "## Baseline value"
   ]
  },
  {
   "cell_type": "code",
   "execution_count": null,
   "id": "8a5a60d1",
   "metadata": {},
   "outputs": [],
   "source": [
    "# run simulation\n",
    "sim_res_base = utils.run_sim()\n",
    "_ = utils.calc_metrics(sim_res=sim_res_base, sim_res_base=sim_res_base, show=True)"
   ]
  },
  {
   "cell_type": "markdown",
   "id": "5be4634d",
   "metadata": {},
   "source": [
    "## Assess across coarse range of yaw combinations for all turbines"
   ]
  },
  {
   "cell_type": "code",
   "execution_count": null,
   "id": "36b95d44",
   "metadata": {},
   "outputs": [],
   "source": [
    "coarse_dir = os.path.join(\"data\", \"coarse_sweep.h5\")\n",
    "yaw_ind_coarse = {f\"yaw_{i}\": [-5, 0, 5] for i in sim_res_base.wt.values}\n",
    "if os.path.isfile(coarse_dir):\n",
    "    # load pre-existing dataset\n",
    "    ds_coarse = xr.open_dataset(coarse_dir)\n",
    "else:\n",
    "    # initialise dataset\n",
    "    nt = len(sim_res_base.wt)\n",
    "    power_installed = (\n",
    "        sim_res_base.windFarmModel.windTurbines.powerCtFunction.power_ct_tab[0].max()\n",
    "        / 1e9\n",
    "        * nt\n",
    "    )\n",
    "    ds_coarse = xr.Dataset(\n",
    "        data_vars={\n",
    "            \"lcoe\": (\n",
    "                [\"wt\", \"wd\"] + list(yaw_ind_coarse.keys()),\n",
    "                np.zeros(\n",
    "                    (nt, len(sim_res_base.wd))\n",
    "                    + tuple(len(x) for x in yaw_ind_coarse.values())\n",
    "                ),\n",
    "            ),\n",
    "            \"cap_fac\": (\n",
    "                [\"wt\", \"wd\"] + list(yaw_ind_coarse.keys()),\n",
    "                np.zeros(\n",
    "                    (nt, len(sim_res_base.wd))\n",
    "                    + tuple(len(x) for x in yaw_ind_coarse.values())\n",
    "                ),\n",
    "            ),\n",
    "            \"aep\": (\n",
    "                [\"wt\", \"wd\"] + list(yaw_ind_coarse.keys()),\n",
    "                np.zeros(\n",
    "                    (nt, len(sim_res_base.wd))\n",
    "                    + tuple(len(x) for x in yaw_ind_coarse.values())\n",
    "                ),\n",
    "            ),\n",
    "        },\n",
    "        coords={\"wt\": list(sim_res_base.wt.values), \"wd\": list(sim_res_base.wd.values)}\n",
    "        | yaw_ind_coarse,\n",
    "    )\n",
    "    # calculate across full range of options\n",
    "    yaw_options_coarse = list(product(*yaw_ind_coarse.values()))\n",
    "    simulations = {\n",
    "        k: v\n",
    "        for k, v in zip(\n",
    "            yaw_options_coarse,\n",
    "            pqdm(\n",
    "                [{\"yaw\": x} for x in yaw_options_coarse],\n",
    "                utils.run_sim,\n",
    "                n_jobs=int(0.75 * os.cpu_count()),\n",
    "                argument_type=\"kwargs\",\n",
    "            ),\n",
    "        )\n",
    "    }\n",
    "    # save results to dataset\n",
    "    for yaw_option, sim_res in tqdm(simulations.items(), total=len(simulations)):\n",
    "        aep, lcoe, cap_fac = utils.calc_metrics(\n",
    "            sim_res=sim_res, sim_res_base=sim_res_base\n",
    "        )\n",
    "        ds_coarse[\"lcoe\"].loc[:, :, *yaw_option] = lcoe\n",
    "        ds_coarse[\"cap_fac\"].loc[:, :, *yaw_option] = cap_fac\n",
    "        ds_coarse[\"aep\"].loc[:, :, *yaw_option] = aep\n",
    "    # save file\n",
    "    ds_coarse.to_netcdf(coarse_dir)\n",
    "# aggregate over some directions\n",
    "ds_coarse[\"lcoe_direction\"] = (ds_coarse.lcoe * (ds_coarse.aep * 1000)).sum(\"wt\") / (\n",
    "    ds_coarse.aep * 1000\n",
    ").sum(\"wt\")\n",
    "ds_coarse[\"cap_fac_direction\"] = ds_coarse.cap_fac.weighted(\n",
    "    sim_res_base.Sector_frequency / sim_res_base.Sector_frequency.sum()\n",
    ").mean(\"wt\")\n",
    "ds_coarse[\"lcoe_overall\"] = (ds_coarse.lcoe * (ds_coarse.aep * 1000)).sum(\n",
    "    [\"wt\", \"wd\"]\n",
    ") / (ds_coarse.aep * 1000).sum([\"wt\", \"wd\"])\n",
    "ds_coarse[\"cap_fac_overall\"] = ds_coarse.cap_fac.weighted(\n",
    "    sim_res_base.Sector_frequency / sim_res_base.Sector_frequency.sum()\n",
    ").mean([\"wt\", \"wd\"])"
   ]
  },
  {
   "cell_type": "code",
   "execution_count": null,
   "id": "ea44aeb9",
   "metadata": {},
   "outputs": [],
   "source": [
    "# identify optimums for each wind direction\n",
    "yaw_opt_coarse = ds_coarse.lcoe_direction.stack(\n",
    "    dimensions={\"all_dims\": yaw_ind_coarse.keys()}\n",
    ").idxmin(dim=\"all_dims\")\n",
    "yaw_opt_coarse"
   ]
  },
  {
   "cell_type": "code",
   "execution_count": null,
   "id": "656b6135",
   "metadata": {},
   "outputs": [],
   "source": [
    "# plot improvements\n",
    "fig, ax_all = plt.subplots(ncols=2, figsize=(6, 3))\n",
    "(\n",
    "    ds_coarse.lcoe_direction.min(list(yaw_ind_coarse.keys()))\n",
    "    - ds_coarse.lcoe_direction.sel({k: 0 for k in yaw_ind_coarse})\n",
    ").to_series().plot.bar(ax=ax_all[0])\n",
    "ax_all[0].set_ylabel(\"lcoe_improvement\")\n",
    "(\n",
    "    100\n",
    "    * (\n",
    "        ds_coarse.cap_fac_direction.max(list(yaw_ind_coarse.keys()))\n",
    "        - ds_coarse.cap_fac_direction.sel({k: 0 for k in yaw_ind_coarse})\n",
    "    )\n",
    ").to_series().plot.bar(ax=ax_all[1])\n",
    "ax_all[1].set_ylabel(\"cap_fac_improvement\")\n",
    "fig.tight_layout()"
   ]
  },
  {
   "cell_type": "code",
   "execution_count": null,
   "id": "3433101d",
   "metadata": {},
   "outputs": [],
   "source": [
    "# plot flow maps\n",
    "fig, ax_all = plt.subplots(ncols=4, nrows=2, figsize=(15, 6))\n",
    "for wd, ax in zip(ds_coarse.wd.values, ax_all.flatten()):\n",
    "    fm = utils.run_sim(\n",
    "        yaw=yaw_opt_coarse.sel(wd=wd).values.tolist(), wd=wd, ws=12\n",
    "    ).flow_map()\n",
    "    fm.plot_wake_map(ax=ax)\n",
    "    ax.grid()\n",
    "    ax.set_title(f\"wd={wd}\")\n",
    "fig.tight_layout()"
   ]
  },
  {
   "cell_type": "markdown",
   "id": "d145d3be",
   "metadata": {},
   "source": [
    "Observations\n",
    "- Improvements observied in every direction but direction with existing offset and downstream turbines near to wake benefit most as they require only a small deviation\n",
    "- Movement of last front row is pointless\n",
    "- Middle rows don't seem to benefit from changing (in this coarse system anyway) with no pre-existing offset"
   ]
  },
  {
   "cell_type": "markdown",
   "id": "e8c21da8",
   "metadata": {},
   "source": [
    "## Assess across fine range of yaw combinations for two turbines"
   ]
  },
  {
   "cell_type": "code",
   "execution_count": null,
   "id": "732a28ff",
   "metadata": {},
   "outputs": [],
   "source": [
    "fine_dir = os.path.join(\"data\", \"fine_sweep.h5\")\n",
    "yaw_ind_fine = {\n",
    "    f\"yaw_{i}\": np.arange(-30, 30.5, 0.5) for i in sim_res_base.wt.values[[1, 4]]\n",
    "}\n",
    "if os.path.isfile(fine_dir):\n",
    "    # load pre-existing dataset\n",
    "    ds_fine = xr.open_dataset(fine_dir)\n",
    "else:\n",
    "    # initialise dataset\n",
    "    nt = len(sim_res_base.wt)\n",
    "    power_installed = (\n",
    "        sim_res_base.windFarmModel.windTurbines.powerCtFunction.power_ct_tab[0].max()\n",
    "        / 1e9\n",
    "        * nt\n",
    "    )\n",
    "    ds_fine = xr.Dataset(\n",
    "        data_vars={\n",
    "            \"lcoe\": (\n",
    "                [\"wt\", \"wd\"] + list(yaw_ind_fine.keys()),\n",
    "                np.zeros(\n",
    "                    (nt, len(sim_res_base.wd))\n",
    "                    + tuple(len(x) for x in yaw_ind_fine.values())\n",
    "                ),\n",
    "            ),\n",
    "            \"cap_fac\": (\n",
    "                [\"wt\", \"wd\"] + list(yaw_ind_fine.keys()),\n",
    "                np.zeros(\n",
    "                    (nt, len(sim_res_base.wd))\n",
    "                    + tuple(len(x) for x in yaw_ind_fine.values())\n",
    "                ),\n",
    "            ),\n",
    "            \"aep\": (\n",
    "                [\"wt\", \"wd\"] + list(yaw_ind_fine.keys()),\n",
    "                np.zeros(\n",
    "                    (nt, len(sim_res_base.wd))\n",
    "                    + tuple(len(x) for x in yaw_ind_fine.values())\n",
    "                ),\n",
    "            ),\n",
    "        },\n",
    "        coords={\"wt\": list(sim_res_base.wt.values), \"wd\": list(sim_res_base.wd.values)}\n",
    "        | yaw_ind_fine,\n",
    "    )\n",
    "    # calculate across full range of options\n",
    "    yaw_options_fine = list(\n",
    "        product(*[yaw_ind_fine.get(f\"yaw_{x}\", [0]) for x in sim_res_base.wt.values])\n",
    "    )\n",
    "    simulations = {\n",
    "        k: v\n",
    "        for k, v in zip(\n",
    "            yaw_options_fine,\n",
    "            pqdm(\n",
    "                [{\"yaw\": x} for x in yaw_options_fine],\n",
    "                utils.run_sim,\n",
    "                n_jobs=int(0.75 * os.cpu_count()),\n",
    "                argument_type=\"kwargs\",\n",
    "            ),\n",
    "        )\n",
    "    }\n",
    "    # save results to dataset\n",
    "    for yaw_option, sim_res in tqdm(simulations.items(), total=len(simulations)):\n",
    "        aep, lcoe, cap_fac = utils.calc_metrics(\n",
    "            sim_res=sim_res, sim_res_base=sim_res_base\n",
    "        )\n",
    "        ds_fine[\"lcoe\"].loc[:, :, yaw_option[1], yaw_option[4]] = lcoe\n",
    "        ds_fine[\"cap_fac\"].loc[:, :, yaw_option[1], yaw_option[4]] = cap_fac\n",
    "        ds_fine[\"aep\"].loc[:, :, yaw_option[1], yaw_option[4]] = aep\n",
    "    # save file\n",
    "    ds_fine.to_netcdf(fine_dir)\n",
    "# aggregate over some directions\n",
    "ds_fine[\"lcoe_direction\"] = (ds_fine.lcoe * (ds_fine.aep * 1000)).sum(\"wt\") / (\n",
    "    ds_fine.aep * 1000\n",
    ").sum(\"wt\")\n",
    "ds_fine[\"cap_fac_direction\"] = ds_fine.cap_fac.weighted(\n",
    "    sim_res_base.Sector_frequency / sim_res_base.Sector_frequency.sum()\n",
    ").mean(\"wt\")\n",
    "ds_fine[\"lcoe_overall\"] = (ds_fine.lcoe * (ds_fine.aep * 1000)).sum([\"wt\", \"wd\"]) / (\n",
    "    ds_fine.aep * 1000\n",
    ").sum([\"wt\", \"wd\"])\n",
    "ds_fine[\"cap_fac_overall\"] = ds_fine.cap_fac.weighted(\n",
    "    sim_res_base.Sector_frequency / sim_res_base.Sector_frequency.sum()\n",
    ").mean([\"wt\", \"wd\"])"
   ]
  },
  {
   "cell_type": "code",
   "execution_count": null,
   "id": "f5799efc",
   "metadata": {},
   "outputs": [],
   "source": [
    "# identify optimums for each wind direction\n",
    "\n",
    "# calculate optimum for each direction\n",
    "yaw_opt_fine = ds_fine.lcoe_direction.stack(\n",
    "    dimensions={\"all_dims\": yaw_ind_fine.keys()}\n",
    ").idxmin(dim=\"all_dims\")\n",
    "# fill out 0 values for unoptimised turbines\n",
    "data_list = []\n",
    "for vals in yaw_opt_fine.values:\n",
    "    yaw_opt = list((0,) * len(ds_fine.wt))\n",
    "    yaw_opt[1], yaw_opt[4] = vals\n",
    "    data_list.append(tuple(yaw_opt))\n",
    "data = np.empty(len(data_list), dtype=object)\n",
    "data[:] = data_list\n",
    "# store as dataarray\n",
    "yaw_opt_fine = xr.DataArray(data=data, coords={\"wd\": yaw_opt_fine.wd.values})"
   ]
  },
  {
   "cell_type": "code",
   "execution_count": null,
   "id": "9845e86c",
   "metadata": {},
   "outputs": [],
   "source": [
    "# plot improvements\n",
    "fig, ax_all = plt.subplots(ncols=2, figsize=(6, 3))\n",
    "(\n",
    "    ds_fine.lcoe_direction.min(list(yaw_ind_fine.keys()))\n",
    "    - ds_fine.lcoe_direction.sel(yaw_1=0, yaw_4=0)\n",
    ").to_series().plot.bar(ax=ax_all[0])\n",
    "ax_all[0].set_ylabel(\"lcoe_improvement\")\n",
    "(\n",
    "    100\n",
    "    * (\n",
    "        ds_fine.cap_fac_direction.max(list(yaw_ind_fine.keys()))\n",
    "        - ds_fine.cap_fac_direction.sel(yaw_1=0, yaw_4=0)\n",
    "    )\n",
    ").to_series().plot.bar(ax=ax_all[1])\n",
    "ax_all[1].set_ylabel(\"cap_fac_improvement\")\n",
    "fig.tight_layout()"
   ]
  },
  {
   "cell_type": "code",
   "execution_count": null,
   "id": "bb3b1b18",
   "metadata": {},
   "outputs": [],
   "source": [
    "# plot distribution of lcoe values\n",
    "fig, ax_all = plt.subplots(ncols=4, nrows=2, figsize=(15, 6))\n",
    "for wd, ax in zip(ds_fine.wd, ax_all.flatten()):\n",
    "    _ = ds_fine.lcoe_direction.sel(wd=wd.values).plot.contourf(levels=25, ax=ax)\n",
    "fig.tight_layout()"
   ]
  },
  {
   "cell_type": "code",
   "execution_count": null,
   "id": "85aa0ec0",
   "metadata": {},
   "outputs": [],
   "source": [
    "# plot distribution of cap_fac values\n",
    "fig, ax_all = plt.subplots(ncols=4, nrows=2, figsize=(15, 6))\n",
    "for wd, ax in zip(ds_fine.wd, ax_all.flatten()):\n",
    "    _ = (100 * ds_fine.cap_fac_direction.sel(wd=wd.values)).plot.contourf(\n",
    "        levels=25, ax=ax\n",
    "    )\n",
    "fig.tight_layout()"
   ]
  },
  {
   "cell_type": "code",
   "execution_count": null,
   "id": "e9eb0a2e",
   "metadata": {},
   "outputs": [],
   "source": [
    "# plot flow maps\n",
    "fig, ax_all = plt.subplots(ncols=4, nrows=2, figsize=(15, 6))\n",
    "for wd, ax in zip(ds_fine.wd.values, ax_all.flatten()):\n",
    "    fm = utils.run_sim(\n",
    "        yaw=yaw_opt_fine.sel(wd=wd).values.tolist(), wd=wd, ws=12\n",
    "    ).flow_map()\n",
    "    fm.plot_wake_map(ax=ax)\n",
    "    ax.grid()\n",
    "    ax.set_title(f\"wd={wd}\")\n",
    "fig.tight_layout()"
   ]
  },
  {
   "cell_type": "code",
   "execution_count": null,
   "id": "4e02b087",
   "metadata": {},
   "outputs": [],
   "source": [
    "# plot distribution of wind speed and power changes\n",
    "wd = 0\n",
    "print(list(yaw_opt_fine.sel(wd=wd).values.tolist())[3:6])\n",
    "sim_res_opt_fine = utils.run_sim(yaw=yaw_opt_fine.sel(wd=wd).values.tolist())\n",
    "fig, ax = plt.subplots(ncols=3, figsize=(15, 2.5))\n",
    "WS_eff_diff = (sim_res_opt_fine.WS_eff - sim_res_base.WS_eff).sel(\n",
    "    {\"wt\": [3, 4, 5], \"wd\": wd}\n",
    ")\n",
    "Power_diff = (sim_res_opt_fine.Power - sim_res_base.Power).sel(\n",
    "    {\"wt\": [3, 4, 5], \"wd\": wd}\n",
    ")\n",
    "WS_eff_diff.plot(ax=ax[0])\n",
    "Power_diff.plot(ax=ax[1])\n",
    "Power_diff.sum(\"wt\").plot(ax=ax[2])\n",
    "ax[0].set_yticks(WS_eff_diff.wt)\n",
    "ax[1].set_yticks(Power_diff.wt)\n",
    "fig.tight_layout()"
   ]
  },
  {
   "cell_type": "markdown",
   "id": "6424eded",
   "metadata": {},
   "source": [
    "Observations\n",
    "- Rare for front and middle rows to be moved\n",
    "- Direction of movement favours prexisting offset if one exists\n",
    "- Considerable improvements observed even with diagonal wind directions which have better spacing between wakes\n",
    "- Off design performance is good - not too sensitive near optimum\n",
    "- Improvements increase with wind speed until maximal power output\n",
    "    - Near maximal power output speed the increase of the second turbine is minimal as the power curve flattens so a net loss is observed\n",
    "- Optimal yaw likely a function of wind speed and direction\n",
    "    - Change with speed appears smoother than changes with direction"
   ]
  }
 ],
 "metadata": {
  "colab": {
   "provenance": []
  },
  "kernelspec": {
   "display_name": "Python 3 (ipykernel)",
   "language": "python",
   "name": "python3"
  },
  "language_info": {
   "codemirror_mode": {
    "name": "ipython",
    "version": 3
   },
   "file_extension": ".py",
   "mimetype": "text/x-python",
   "name": "python",
   "nbconvert_exporter": "python",
   "pygments_lexer": "ipython3",
   "version": "3.12.1"
  }
 },
 "nbformat": 4,
 "nbformat_minor": 5
}
