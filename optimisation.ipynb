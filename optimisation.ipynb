{
 "cells": [
  {
   "cell_type": "markdown",
   "metadata": {},
   "source": [
    "# Yaw angle optimisation\n",
    "Calculating the optimum yaw angle for turbines across a range of wakes and wind speeds"
   ]
  },
  {
   "cell_type": "markdown",
   "metadata": {},
   "source": [
    "## To do\n",
    "- Increase fidelity\n",
    "    - Assess difference in speed of calculation and optimal values\n",
    "- Loop over wind direction\n",
    "    - Parallelise using PQDM\n",
    "- Assess results\n",
    "    - Sensitivity to wind direction/speed\n",
    "    - Variation in sensitivity between turbines\n",
    "    - Increase number of turbines"
   ]
  },
  {
   "cell_type": "markdown",
   "metadata": {},
   "source": [
    "## Setup"
   ]
  },
  {
   "cell_type": "code",
   "execution_count": null,
   "metadata": {},
   "outputs": [],
   "source": [
    "# import libraries\n",
    "import logging\n",
    "\n",
    "import matplotlib.pyplot as plt\n",
    "import numpy as np\n",
    "import xarray as xr\n",
    "from scipy import optimize\n",
    "from tqdm.notebook import tqdm\n",
    "\n",
    "import utils"
   ]
  },
  {
   "cell_type": "code",
   "execution_count": null,
   "metadata": {},
   "outputs": [],
   "source": [
    "# define constants\n",
    "yaw_scale = 30"
   ]
  },
  {
   "cell_type": "markdown",
   "metadata": {},
   "source": [
    "## Baseline values"
   ]
  },
  {
   "cell_type": "code",
   "execution_count": null,
   "metadata": {},
   "outputs": [],
   "source": [
    "# run baseline simulation\n",
    "sim_res_base = utils.run_sim()"
   ]
  },
  {
   "cell_type": "code",
   "execution_count": null,
   "metadata": {},
   "outputs": [],
   "source": [
    "# cut in speed\n",
    "cut_in_index = np.argmax(\n",
    "    sim_res_base.windFarmModel.windTurbines.power(sim_res_base.ws) > 0\n",
    ")\n",
    "cut_in_speed = sim_res_base.ws[cut_in_index].values.tolist()"
   ]
  },
  {
   "cell_type": "code",
   "execution_count": null,
   "metadata": {},
   "outputs": [],
   "source": [
    "# ensure probabilities (wind direction and speed) total 1\n",
    "Sector_frequency = sim_res_base.Sector_frequency\n",
    "if not np.isclose(Sector_frequency.sum(), 1):\n",
    "    logging.warning(\n",
    "        f\"Sector frequency renormalised as total probability was {Sector_frequency.sum().values}\"\n",
    "    )\n",
    "    Sector_frequency = Sector_frequency / Sector_frequency.sum()\n",
    "P = sim_res_base.P\n",
    "if not np.isclose(P.sum(), 1):\n",
    "    logging.warning(f\"P renormalised as total probability was {P.sum().values}\")\n",
    "    P = P / P.sum()"
   ]
  },
  {
   "cell_type": "code",
   "execution_count": null,
   "metadata": {},
   "outputs": [],
   "source": [
    "# calculate baseline metrics\n",
    "aep_base, lcoe_base, cap_fac_base = utils.calc_metrics(\n",
    "    sim_res=sim_res_base,\n",
    "    sim_res_base=sim_res_base,\n",
    "    Sector_frequency=Sector_frequency,\n",
    "    P=P,\n",
    "    show=True,\n",
    ")\n",
    "(\n",
    "    lcoe_direction_base,\n",
    "    cap_fac_direction_base,\n",
    "    lcoe_overall_base,\n",
    "    cap_fac_overall_base,\n",
    ") = utils.aggregate_metrics(\n",
    "    aep=aep_base,\n",
    "    lcoe=lcoe_base,\n",
    "    cap_fac=cap_fac_base,\n",
    "    Sector_frequency=Sector_frequency,\n",
    ")"
   ]
  },
  {
   "cell_type": "markdown",
   "metadata": {},
   "source": [
    "## Optimise across for a single wind direction"
   ]
  },
  {
   "cell_type": "code",
   "execution_count": null,
   "metadata": {},
   "outputs": [],
   "source": [
    "# define constants\n",
    "wd = 270\n",
    "yaw_shape = (len(sim_res_base.wt), 1, len(sim_res_base.ws))"
   ]
  },
  {
   "cell_type": "code",
   "execution_count": null,
   "metadata": {},
   "outputs": [],
   "source": [
    "# initialise optimal yaw dataset\n",
    "yaw_opt = xr.Dataset(\n",
    "    data_vars={\n",
    "        \"lcoe\": ([\"wt\", \"wd\", \"ws\"], np.zeros(yaw_shape)),\n",
    "        \"power\": ([\"wt\", \"wd\", \"ws\"], np.zeros(yaw_shape)),\n",
    "    },\n",
    "    coords={\n",
    "        \"wt\": list(sim_res_base.wt.values),\n",
    "        \"wd\": [wd],\n",
    "        \"ws\": list(sim_res_base.ws.values),\n",
    "    },\n",
    ")"
   ]
  },
  {
   "cell_type": "code",
   "execution_count": null,
   "metadata": {},
   "outputs": [],
   "source": [
    "# optimise for power output indepedently across wind speeds\n",
    "next_x0 = np.ones(len(sim_res_base.wt)) / yaw_scale\n",
    "for ws in tqdm(sim_res_base.ws.values):\n",
    "    if ws >= cut_in_speed:\n",
    "        # define objective function for power\n",
    "        def obj_power_single(yaw_norm):\n",
    "            sim_res = utils.run_sim(yaw=yaw_norm * yaw_scale, ws=ws, wd=wd)\n",
    "            obj = -(\n",
    "                sim_res.Power.sel(ws=ws, wd=wd).sum(\"wt\")\n",
    "                / sim_res_base.Power.sel(ws=ws, wd=wd).sum(\"wt\")\n",
    "            ).values.tolist()\n",
    "            return obj\n",
    "\n",
    "        assert np.isclose(obj_power_single(np.zeros(len(sim_res_base.wt))), -1)\n",
    "        # optimise power output\n",
    "        res = optimize.minimize(fun=obj_power_single, x0=next_x0)\n",
    "        # process results\n",
    "        next_x0 = res.x\n",
    "        yaw_opt.power.loc[:, wd, ws] = res.x * yaw_scale"
   ]
  },
  {
   "cell_type": "code",
   "execution_count": null,
   "metadata": {},
   "outputs": [],
   "source": [
    "# plot optimum yaw angles based on power\n",
    "fig, ax = plt.subplots(figsize=(6, 3))\n",
    "yaw_opt.power.sel(wd=wd).plot.line(hue=\"wt\")\n",
    "fig.tight_layout()"
   ]
  },
  {
   "cell_type": "code",
   "execution_count": null,
   "metadata": {},
   "outputs": [],
   "source": [
    "# define objective function for lcoe\n",
    "def obj_lcoe_single(yaw_norm):\n",
    "    sim_res = utils.run_sim(yaw=yaw_norm.reshape(yaw_shape) * yaw_scale, wd=wd)\n",
    "    aep, lcoe, _ = utils.calc_metrics(\n",
    "        sim_res=sim_res,\n",
    "        sim_res_base=sim_res_base,\n",
    "        Sector_frequency=Sector_frequency,\n",
    "        P=P,\n",
    "    )\n",
    "    _, _, lcoe_overall, _ = utils.aggregate_metrics(\n",
    "        aep=aep, lcoe=lcoe, Sector_frequency=Sector_frequency\n",
    "    )\n",
    "    obj = (lcoe_overall / lcoe_direction_base.sel(wd=wd)).values.tolist()\n",
    "    return obj\n",
    "\n",
    "\n",
    "assert np.isclose(obj_lcoe_single(np.zeros(yaw_shape).ravel()), 1)"
   ]
  },
  {
   "cell_type": "code",
   "execution_count": null,
   "metadata": {},
   "outputs": [],
   "source": [
    "# run optimisation with iteration counter display\n",
    "n = 0\n",
    "res = optimize.minimize(\n",
    "    fun=obj_lcoe_single,\n",
    "    x0=yaw_opt.power.values.ravel() / yaw_scale,\n",
    "    method=\"SLSQP\",\n",
    "    tol=1e-4,\n",
    ")\n",
    "yaw_opt.lcoe.loc[:, :, :] = res.x.reshape(yaw_shape) * yaw_scale\n",
    "res"
   ]
  },
  {
   "cell_type": "code",
   "execution_count": null,
   "metadata": {},
   "outputs": [],
   "source": [
    "# plot optimum yaw angles\n",
    "fig, ax = plt.subplots(figsize=(6, 3))\n",
    "yaw_opt.lcoe.sel(wd=wd).plot.line(hue=\"wt\")\n",
    "fig.tight_layout()"
   ]
  },
  {
   "cell_type": "code",
   "execution_count": null,
   "metadata": {},
   "outputs": [],
   "source": [
    "# rerun simulation for optimum\n",
    "sim_res_opt = utils.run_sim(yaw=yaw_opt.lcoe.values.reshape(yaw_shape), wd=wd)\n",
    "aep_opt, lcoe_opt, cap_fac_opt = utils.calc_metrics(\n",
    "    sim_res=sim_res_opt,\n",
    "    sim_res_base=sim_res_base,\n",
    "    Sector_frequency=Sector_frequency,\n",
    "    P=P,\n",
    ")\n",
    "_, _, lcoe_overall_opt, cap_fac_overall_opt = utils.aggregate_metrics(\n",
    "    aep=aep_opt, lcoe=lcoe_opt, cap_fac=cap_fac_opt, Sector_frequency=Sector_frequency\n",
    ")"
   ]
  },
  {
   "cell_type": "code",
   "execution_count": null,
   "metadata": {},
   "outputs": [],
   "source": [
    "# display comaprison of optimum to baseline\n",
    "print(f\"Baseline LCoE [USD/MWh]      : {lcoe_direction_base.sel(wd=wd).values:.3f}\")\n",
    "print(f\"Optimum LCoE [USD/MWh]       : {lcoe_overall_opt.values:.3f}\")\n",
    "print(\n",
    "    f\"Baseline Capacity Factor [%] : {100*cap_fac_direction_base.sel(wd=wd).values:.3f}\"\n",
    ")\n",
    "print(f\"Optimum Capacity Factor [%]  : {100*cap_fac_overall_opt.values:.3f}\")"
   ]
  }
 ],
 "metadata": {
  "kernelspec": {
   "display_name": "env",
   "language": "python",
   "name": "python3"
  },
  "language_info": {
   "codemirror_mode": {
    "name": "ipython",
    "version": 3
   },
   "file_extension": ".py",
   "mimetype": "text/x-python",
   "name": "python",
   "nbconvert_exporter": "python",
   "pygments_lexer": "ipython3",
   "version": "3.12.1"
  }
 },
 "nbformat": 4,
 "nbformat_minor": 2
}
