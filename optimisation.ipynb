{
 "cells": [
  {
   "cell_type": "markdown",
   "metadata": {},
   "source": [
    "# Yaw angle optimisation\n",
    "Calculating the optimum yaw angle for turbines across a range of wakes and wind speeds"
   ]
  },
  {
   "cell_type": "markdown",
   "metadata": {},
   "source": [
    "## To do\n",
    "- Optimise for single wind speed for better initial estimate\n",
    "    - Power not LCOE\n",
    "    - Different values for below/at rated power\n",
    "- Increase fidelity\n",
    "    - Assess difference in speed of calculation and optimal values\n",
    "- Loop over wind direction\n",
    "    - Parallelise using PQDM\n",
    "- Assess results\n",
    "    - Sensitivity to wind direction/speed\n",
    "    - Variation in sensitivity between turbines\n",
    "    - Increase number of turbines"
   ]
  },
  {
   "cell_type": "markdown",
   "metadata": {},
   "source": [
    "## Setup"
   ]
  },
  {
   "cell_type": "code",
   "execution_count": 1,
   "metadata": {},
   "outputs": [],
   "source": [
    "# import libraries\n",
    "import logging\n",
    "\n",
    "import numpy as np\n",
    "from scipy import optimize\n",
    "\n",
    "import utils"
   ]
  },
  {
   "cell_type": "code",
   "execution_count": 2,
   "metadata": {},
   "outputs": [],
   "source": [
    "# define constants\n",
    "yaw_scale = 30"
   ]
  },
  {
   "cell_type": "markdown",
   "metadata": {},
   "source": [
    "## Baseline values"
   ]
  },
  {
   "cell_type": "code",
   "execution_count": 3,
   "metadata": {},
   "outputs": [],
   "source": [
    "# run baseline simulation\n",
    "sim_res_base = utils.run_sim()"
   ]
  },
  {
   "cell_type": "code",
   "execution_count": 4,
   "metadata": {},
   "outputs": [],
   "source": [
    "# ensure probabilities (wind direction and speed) total 1\n",
    "Sector_frequency = sim_res_base.Sector_frequency\n",
    "if not np.isclose(Sector_frequency.sum(), 1):\n",
    "    logging.warning(\n",
    "        f\"Sector frequency renormalised as total probability was {Sector_frequency.sum().values}\"\n",
    "    )\n",
    "    Sector_frequency = Sector_frequency / Sector_frequency.sum()\n",
    "P = sim_res_base.P\n",
    "if not np.isclose(P.sum(), 1):\n",
    "    logging.warning(f\"P renormalised as total probability was {P.sum().values}\")\n",
    "    P = P / P.sum()"
   ]
  },
  {
   "cell_type": "code",
   "execution_count": 14,
   "metadata": {},
   "outputs": [
    {
     "name": "stdout",
     "output_type": "stream",
     "text": [
      "AEP [GWh]: 79.174\n",
      "LCoE [USD/MWh]: 44.477\n",
      "Capacity factor [%]: 50.177\n"
     ]
    }
   ],
   "source": [
    "# calculate baseline metrics\n",
    "aep_base, lcoe_base, cap_fac_base = utils.calc_metrics(\n",
    "    sim_res=sim_res_base,\n",
    "    sim_res_base=sim_res_base,\n",
    "    Sector_frequency=Sector_frequency,\n",
    "    P=P,\n",
    "    show=True,\n",
    ")\n",
    "(\n",
    "    lcoe_direction_base,\n",
    "    cap_fac_direction_base,\n",
    "    lcoe_overall_base,\n",
    "    cap_fac_overall_base,\n",
    ") = utils.aggregate_metrics(\n",
    "    aep=aep_base,\n",
    "    lcoe=lcoe_base,\n",
    "    cap_fac=cap_fac_base,\n",
    "    Sector_frequency=Sector_frequency,\n",
    ")"
   ]
  },
  {
   "cell_type": "markdown",
   "metadata": {},
   "source": [
    "## Optimise across for a single wind direction"
   ]
  },
  {
   "cell_type": "code",
   "execution_count": 6,
   "metadata": {},
   "outputs": [],
   "source": [
    "# define constants\n",
    "wd = 270\n",
    "yaw_shape = (len(sim_res_base.wt), 1, len(sim_res_base.ws))"
   ]
  },
  {
   "cell_type": "code",
   "execution_count": 7,
   "metadata": {},
   "outputs": [],
   "source": [
    "# define objective function\n",
    "def obj_single(yaw_norm):\n",
    "    sim_res = utils.run_sim(yaw=yaw_norm.reshape(yaw_shape) * yaw_scale, wd=wd)\n",
    "    aep, lcoe, _ = utils.calc_metrics(\n",
    "        sim_res=sim_res,\n",
    "        sim_res_base=sim_res_base,\n",
    "        Sector_frequency=Sector_frequency,\n",
    "        P=P,\n",
    "    )\n",
    "    _, _, lcoe_overall, _ = utils.aggregate_metrics(\n",
    "        aep=aep, lcoe=lcoe, Sector_frequency=Sector_frequency\n",
    "    )\n",
    "    obj = (lcoe_overall / lcoe_direction_base.sel(wd=wd)).values.tolist()\n",
    "    return obj"
   ]
  },
  {
   "cell_type": "code",
   "execution_count": 8,
   "metadata": {},
   "outputs": [],
   "source": [
    "# check objective function correct for baseline case\n",
    "assert np.isclose(obj_single(np.zeros(yaw_shape)), 1)"
   ]
  },
  {
   "cell_type": "code",
   "execution_count": 9,
   "metadata": {},
   "outputs": [],
   "source": [
    "# define optimisation callback\n",
    "def _callback(intermediate_result):\n",
    "    global n\n",
    "    if n % 5 == 0:\n",
    "        print(f\"Iteration {n:3.0f}: obj = {intermediate_result.fun:.5f}\")\n",
    "    n += 1"
   ]
  },
  {
   "cell_type": "code",
   "execution_count": 10,
   "metadata": {},
   "outputs": [
    {
     "name": "stdout",
     "output_type": "stream",
     "text": [
      "Iteration   0: obj = 0.99833\n",
      "Iteration   5: obj = 0.99352\n",
      "Iteration  10: obj = 0.99339\n",
      "Iteration  15: obj = 0.99315\n",
      "Iteration  20: obj = 0.99306\n",
      "Iteration  25: obj = 0.99300\n",
      "Iteration  30: obj = 0.99292\n",
      "Iteration  35: obj = 0.99284\n",
      "Iteration  40: obj = 0.99279\n",
      "Iteration  45: obj = 0.99270\n",
      "Iteration  50: obj = 0.99245\n",
      "Iteration  55: obj = 0.99235\n",
      "Iteration  60: obj = 0.99233\n",
      "Iteration  65: obj = 0.99229\n",
      "Iteration  70: obj = 0.99228\n",
      "Iteration  75: obj = 0.99224\n",
      "Iteration  80: obj = 0.99224\n",
      "Iteration  85: obj = 0.99222\n",
      "Iteration  90: obj = 0.99222\n",
      "Iteration  95: obj = 0.99221\n",
      "Iteration 100: obj = 0.99220\n",
      "Iteration 105: obj = 0.99219\n",
      "Iteration 110: obj = 0.99219\n",
      "Iteration 115: obj = 0.99218\n",
      "Iteration 120: obj = 0.99218\n",
      "Iteration 125: obj = 0.99218\n",
      "Iteration 130: obj = 0.99218\n",
      "Iteration 135: obj = 0.99218\n",
      "Iteration 140: obj = 0.99218\n",
      "Iteration 145: obj = 0.99218\n",
      "Iteration 150: obj = 0.99217\n",
      "Iteration 155: obj = 0.99217\n",
      "Iteration 160: obj = 0.99217\n",
      "Iteration 165: obj = 0.99217\n",
      "Iteration 170: obj = 0.99217\n",
      "Iteration 175: obj = 0.99217\n",
      "Iteration 180: obj = 0.99217\n",
      "Iteration 185: obj = 0.99217\n",
      "Iteration 190: obj = 0.99217\n",
      "Iteration 195: obj = 0.99217\n",
      "Iteration 200: obj = 0.99217\n",
      "Iteration 205: obj = 0.99217\n",
      "Iteration 210: obj = 0.99216\n",
      "Iteration 215: obj = 0.99216\n",
      "Iteration 220: obj = 0.99216\n",
      "Iteration 225: obj = 0.99216\n"
     ]
    },
    {
     "data": {
      "text/plain": [
       "  message: Optimization terminated successfully.\n",
       "  success: True\n",
       "   status: 0\n",
       "      fun: 0.9921638155738236\n",
       "        x: [ 3.333e-03  3.333e-03 ...  3.333e-03  3.333e-03]\n",
       "      nit: 227\n",
       "      jac: [ 0.000e+00  0.000e+00 ...  0.000e+00  0.000e+00]\n",
       " hess_inv: [[ 1.000e+00  0.000e+00 ...  0.000e+00  0.000e+00]\n",
       "            [ 0.000e+00  1.000e+00 ...  0.000e+00  0.000e+00]\n",
       "            ...\n",
       "            [ 0.000e+00  0.000e+00 ...  1.000e+00  0.000e+00]\n",
       "            [ 0.000e+00  0.000e+00 ...  0.000e+00  1.000e+00]]\n",
       "     nfev: 70000\n",
       "     njev: 250"
      ]
     },
     "execution_count": 10,
     "metadata": {},
     "output_type": "execute_result"
    }
   ],
   "source": [
    "# run optimisation with iteration counter display\n",
    "n = 0\n",
    "res = optimize.minimize(\n",
    "    fun=obj_single, x0=np.zeros(yaw_shape).ravel() + 0.1 / yaw_scale, callback=_callback\n",
    ")\n",
    "res"
   ]
  },
  {
   "cell_type": "code",
   "execution_count": 19,
   "metadata": {},
   "outputs": [],
   "source": [
    "# rerun simulation for optimum\n",
    "sim_res_opt = utils.run_sim(yaw=res.x.reshape(yaw_shape) * yaw_scale, wd=wd)\n",
    "aep_opt, lcoe_opt, cap_fac_opt = utils.calc_metrics(\n",
    "    sim_res=sim_res_opt,\n",
    "    sim_res_base=sim_res_base,\n",
    "    Sector_frequency=Sector_frequency,\n",
    "    P=P,\n",
    ")\n",
    "_, _, lcoe_overall_opt, cap_fac_overall_opt = utils.aggregate_metrics(\n",
    "    aep=aep_opt, lcoe=lcoe_opt, cap_fac=cap_fac_opt, Sector_frequency=Sector_frequency\n",
    ")"
   ]
  },
  {
   "cell_type": "code",
   "execution_count": 20,
   "metadata": {},
   "outputs": [
    {
     "name": "stdout",
     "output_type": "stream",
     "text": [
      "Baseline LCoE [USD/MWh]      : 43.252\n",
      "Optimum LCoE [USD/MWh]       : 42.913\n",
      "Baseline Capacity Factor [%] : 51.598\n",
      "Optimum Capacity Factor [%]  : 52.006\n"
     ]
    }
   ],
   "source": [
    "# display comaprison of optimum to baseline\n",
    "print(f\"Baseline LCoE [USD/MWh]      : {lcoe_direction_base.sel(wd=wd).values:.3f}\")\n",
    "print(f\"Optimum LCoE [USD/MWh]       : {lcoe_overall_opt.values:.3f}\")\n",
    "print(\n",
    "    f\"Baseline Capacity Factor [%] : {100*cap_fac_direction_base.sel(wd=wd).values:.3f}\"\n",
    ")\n",
    "print(f\"Optimum Capacity Factor [%]  : {100*cap_fac_overall_opt.values:.3f}\")"
   ]
  }
 ],
 "metadata": {
  "kernelspec": {
   "display_name": "env",
   "language": "python",
   "name": "python3"
  },
  "language_info": {
   "codemirror_mode": {
    "name": "ipython",
    "version": 3
   },
   "file_extension": ".py",
   "mimetype": "text/x-python",
   "name": "python",
   "nbconvert_exporter": "python",
   "pygments_lexer": "ipython3",
   "version": "3.12.1"
  }
 },
 "nbformat": 4,
 "nbformat_minor": 2
}
