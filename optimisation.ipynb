{
 "cells": [
  {
   "cell_type": "markdown",
   "metadata": {},
   "source": [
    "# Yaw angle optimisation\n",
    "Calculating the optimum yaw angle for turbines across a range of wakes and wind speeds"
   ]
  },
  {
   "cell_type": "markdown",
   "metadata": {},
   "source": [
    "## To do\n",
    "- Tidy up callback display\n",
    "    - Not every iteration\n",
    "    - Show meaningful metric like objective score\n",
    "- Optimise for single wind speed for better initial estimate\n",
    "    - Power not LCOE\n",
    "    - Different values for below/at rated power\n",
    "- Increase fidelity\n",
    "    - Assess difference in speed of calculation and optimal values\n",
    "- Loop over wind direction\n",
    "    - Parallelise using PQDM\n",
    "- Assess results\n",
    "    - Sensitivity to wind direction/speed\n",
    "    - Variation in sensitivity between turbines\n",
    "    - Increase number of turbines"
   ]
  },
  {
   "cell_type": "markdown",
   "metadata": {},
   "source": [
    "## Setup"
   ]
  },
  {
   "cell_type": "code",
   "execution_count": null,
   "metadata": {},
   "outputs": [],
   "source": [
    "# import libraries\n",
    "import logging\n",
    "\n",
    "import numpy as np\n",
    "from scipy import optimize\n",
    "\n",
    "import utils"
   ]
  },
  {
   "cell_type": "code",
   "execution_count": null,
   "metadata": {},
   "outputs": [],
   "source": [
    "# define constants\n",
    "yaw_scale = 30"
   ]
  },
  {
   "cell_type": "markdown",
   "metadata": {},
   "source": [
    "## Baseline values"
   ]
  },
  {
   "cell_type": "code",
   "execution_count": null,
   "metadata": {},
   "outputs": [],
   "source": [
    "# run baseline simulation\n",
    "sim_res_base = utils.run_sim()"
   ]
  },
  {
   "cell_type": "code",
   "execution_count": null,
   "metadata": {},
   "outputs": [],
   "source": [
    "# ensure probabilities (wind direction and speed) total 1\n",
    "Sector_frequency = sim_res_base.Sector_frequency\n",
    "if not np.isclose(Sector_frequency.sum(), 1):\n",
    "    logging.warning(\n",
    "        f\"Sector frequency renormalised as total probability was {Sector_frequency.sum().values}\"\n",
    "    )\n",
    "    Sector_frequency = Sector_frequency / Sector_frequency.sum()\n",
    "P = sim_res_base.P\n",
    "if not np.isclose(P.sum(), 1):\n",
    "    logging.warning(f\"P renormalised as total probability was {P.sum().values}\")\n",
    "    P = P / P.sum()"
   ]
  },
  {
   "cell_type": "code",
   "execution_count": null,
   "metadata": {},
   "outputs": [],
   "source": [
    "# calculate baseline metrics\n",
    "aep_base, lcoe_base, _ = utils.calc_metrics(\n",
    "    sim_res=sim_res_base,\n",
    "    sim_res_base=sim_res_base,\n",
    "    Sector_frequency=Sector_frequency,\n",
    "    P=P,\n",
    "    show=True,\n",
    ")\n",
    "lcoe_direction_base, _, lcoe_overall_base, _ = utils.aggregate_metrics(\n",
    "    aep=aep_base, lcoe=lcoe_base, Sector_frequency=Sector_frequency\n",
    ")"
   ]
  },
  {
   "cell_type": "markdown",
   "metadata": {},
   "source": [
    "## Optimise across for a single wind direction"
   ]
  },
  {
   "cell_type": "code",
   "execution_count": null,
   "metadata": {},
   "outputs": [],
   "source": [
    "# define constants\n",
    "wd = 270\n",
    "yaw_shape = (len(sim_res_base.wt), 1, len(sim_res_base.ws))"
   ]
  },
  {
   "cell_type": "code",
   "execution_count": null,
   "metadata": {},
   "outputs": [],
   "source": [
    "# define objective function\n",
    "def obj_single(yaw_norm):\n",
    "    sim_res = utils.run_sim(yaw=yaw_norm.reshape(yaw_shape) * yaw_scale, wd=wd)\n",
    "    aep, lcoe, _ = utils.calc_metrics(\n",
    "        sim_res=sim_res,\n",
    "        sim_res_base=sim_res_base,\n",
    "        Sector_frequency=Sector_frequency,\n",
    "        P=P,\n",
    "    )\n",
    "    _, _, lcoe_overall, _ = utils.aggregate_metrics(\n",
    "        aep=aep, lcoe=lcoe, Sector_frequency=Sector_frequency\n",
    "    )\n",
    "    obj = (lcoe_overall / lcoe_direction_base.sel(wd=wd)).values.tolist()\n",
    "    return obj"
   ]
  },
  {
   "cell_type": "code",
   "execution_count": null,
   "metadata": {},
   "outputs": [],
   "source": [
    "# check objective function correct for baseline case\n",
    "assert np.isclose(obj_single(np.zeros(yaw_shape)), 1)"
   ]
  },
  {
   "cell_type": "code",
   "execution_count": null,
   "metadata": {},
   "outputs": [],
   "source": [
    "# run optimisation with iteration counter display\n",
    "n = 0\n",
    "\n",
    "\n",
    "def _callback(x):\n",
    "    global n\n",
    "    print(f\"--- Iteration {n} ---\")\n",
    "    n += 1\n",
    "\n",
    "\n",
    "res = optimize.minimize(\n",
    "    fun=obj_single, x0=np.zeros(yaw_shape).ravel() + 1 / yaw_scale, callback=_callback\n",
    ")\n",
    "res"
   ]
  }
 ],
 "metadata": {
  "kernelspec": {
   "display_name": "env",
   "language": "python",
   "name": "python3"
  },
  "language_info": {
   "codemirror_mode": {
    "name": "ipython",
    "version": 3
   },
   "file_extension": ".py",
   "mimetype": "text/x-python",
   "name": "python",
   "nbconvert_exporter": "python",
   "pygments_lexer": "ipython3",
   "version": "3.12.1"
  }
 },
 "nbformat": 4,
 "nbformat_minor": 2
}
