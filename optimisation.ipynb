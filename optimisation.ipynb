{
 "cells": [
  {
   "cell_type": "markdown",
   "metadata": {},
   "source": [
    "# Yaw angle optimisation\n",
    "Calculating the optimum yaw angle for turbines across a range of wakes and wind speeds"
   ]
  },
  {
   "cell_type": "markdown",
   "metadata": {},
   "source": [
    "## To do\n",
    "- Choose optimisation method\n",
    "    - Speed\n",
    "    - Convergence criteria control\n",
    "- Increase fidelity\n",
    "    - Assess difference in speed of calculation and optimal values\n",
    "- Loop over wind direction\n",
    "    - Parallelise using PQDM\n",
    "- Assess results\n",
    "    - Sensitivity to wind direction/speed\n",
    "    - Variation in sensitivity between turbines\n",
    "    - Increase number of turbines"
   ]
  },
  {
   "cell_type": "markdown",
   "metadata": {},
   "source": [
    "## Setup"
   ]
  },
  {
   "cell_type": "code",
   "execution_count": 1,
   "metadata": {},
   "outputs": [],
   "source": [
    "# import libraries\n",
    "import logging\n",
    "import time\n",
    "\n",
    "import matplotlib.pyplot as plt\n",
    "import numpy as np\n",
    "import pandas as pd\n",
    "import xarray as xr\n",
    "from scipy import optimize\n",
    "from tqdm.notebook import tqdm\n",
    "\n",
    "import utils"
   ]
  },
  {
   "cell_type": "code",
   "execution_count": 2,
   "metadata": {},
   "outputs": [],
   "source": [
    "# define constants\n",
    "yaw_scale = 30"
   ]
  },
  {
   "cell_type": "markdown",
   "metadata": {},
   "source": [
    "## Baseline values"
   ]
  },
  {
   "cell_type": "code",
   "execution_count": 3,
   "metadata": {},
   "outputs": [],
   "source": [
    "# run baseline simulation\n",
    "sim_res_base = utils.run_sim()"
   ]
  },
  {
   "cell_type": "code",
   "execution_count": 4,
   "metadata": {},
   "outputs": [],
   "source": [
    "# cut in speed\n",
    "cut_in_index = np.argmax(\n",
    "    sim_res_base.windFarmModel.windTurbines.power(sim_res_base.ws) > 0\n",
    ")\n",
    "cut_in_speed = sim_res_base.ws[cut_in_index].values.tolist()"
   ]
  },
  {
   "cell_type": "code",
   "execution_count": 5,
   "metadata": {},
   "outputs": [],
   "source": [
    "# ensure probabilities (wind direction and speed) total 1\n",
    "Sector_frequency = sim_res_base.Sector_frequency\n",
    "if not np.isclose(Sector_frequency.sum(), 1):\n",
    "    logging.warning(\n",
    "        f\"Sector frequency renormalised as total probability was {Sector_frequency.sum().values}\"\n",
    "    )\n",
    "    Sector_frequency = Sector_frequency / Sector_frequency.sum()\n",
    "P = sim_res_base.P\n",
    "if not np.isclose(P.sum(), 1):\n",
    "    logging.warning(f\"P renormalised as total probability was {P.sum().values}\")\n",
    "    P = P / P.sum()"
   ]
  },
  {
   "cell_type": "code",
   "execution_count": 6,
   "metadata": {},
   "outputs": [
    {
     "name": "stdout",
     "output_type": "stream",
     "text": [
      "AEP [GWh]: 79.174\n",
      "LCoE [USD/MWh]: 44.477\n",
      "Capacity factor [%]: 50.177\n"
     ]
    }
   ],
   "source": [
    "# calculate baseline metrics\n",
    "aep_base, lcoe_base, cap_fac_base = utils.calc_metrics(\n",
    "    sim_res=sim_res_base,\n",
    "    sim_res_base=sim_res_base,\n",
    "    Sector_frequency=Sector_frequency,\n",
    "    P=P,\n",
    "    show=True,\n",
    ")\n",
    "(\n",
    "    lcoe_direction_base,\n",
    "    cap_fac_direction_base,\n",
    "    lcoe_overall_base,\n",
    "    cap_fac_overall_base,\n",
    ") = utils.aggregate_metrics(\n",
    "    aep=aep_base,\n",
    "    lcoe=lcoe_base,\n",
    "    cap_fac=cap_fac_base,\n",
    "    Sector_frequency=Sector_frequency,\n",
    ")"
   ]
  },
  {
   "cell_type": "markdown",
   "metadata": {},
   "source": [
    "## Optimise across for a single wind direction"
   ]
  },
  {
   "cell_type": "code",
   "execution_count": 7,
   "metadata": {},
   "outputs": [],
   "source": [
    "# define constants\n",
    "wd = 270\n",
    "yaw_shape = (len(sim_res_base.wt), 1, len(sim_res_base.ws))"
   ]
  },
  {
   "cell_type": "code",
   "execution_count": 8,
   "metadata": {},
   "outputs": [],
   "source": [
    "# initialise optimal yaw dataset\n",
    "yaw_opt = xr.Dataset(\n",
    "    data_vars={\n",
    "        \"lcoe\": ([\"wt\", \"wd\", \"ws\"], np.zeros(yaw_shape)),\n",
    "        \"power\": ([\"wt\", \"wd\", \"ws\"], np.zeros(yaw_shape)),\n",
    "    },\n",
    "    coords={\n",
    "        \"wt\": list(sim_res_base.wt.values),\n",
    "        \"wd\": [wd],\n",
    "        \"ws\": list(sim_res_base.ws.values),\n",
    "    },\n",
    ")"
   ]
  },
  {
   "cell_type": "code",
   "execution_count": 9,
   "metadata": {},
   "outputs": [
    {
     "data": {
      "application/vnd.jupyter.widget-view+json": {
       "model_id": "dc64e430376146109041393fa9dab6de",
       "version_major": 2,
       "version_minor": 0
      },
      "text/plain": [
       "  0%|          | 0/31 [00:00<?, ?it/s]"
      ]
     },
     "metadata": {},
     "output_type": "display_data"
    }
   ],
   "source": [
    "# optimise for power output indepedently across wind speeds\n",
    "next_x0 = np.ones(len(sim_res_base.wt)) / yaw_scale\n",
    "for ws in tqdm(sim_res_base.ws.values):\n",
    "    if ws >= cut_in_speed:\n",
    "        # define objective function for power\n",
    "        def obj_power_single(yaw_norm):\n",
    "            sim_res = utils.run_sim(yaw=yaw_norm * yaw_scale, ws=ws, wd=wd)\n",
    "            obj = -(\n",
    "                sim_res.Power.sel(ws=ws, wd=wd).sum(\"wt\")\n",
    "                / sim_res_base.Power.sel(ws=ws, wd=wd).sum(\"wt\")\n",
    "            ).values.tolist()\n",
    "            return obj\n",
    "\n",
    "        assert np.isclose(obj_power_single(np.zeros(len(sim_res_base.wt))), -1)\n",
    "        # optimise power output\n",
    "        res = optimize.minimize(fun=obj_power_single, x0=next_x0)\n",
    "        # process results\n",
    "        next_x0 = res.x\n",
    "        yaw_opt.power.loc[:, wd, ws] = res.x * yaw_scale"
   ]
  },
  {
   "cell_type": "code",
   "execution_count": 10,
   "metadata": {},
   "outputs": [
    {
     "data": {
      "image/png": "[encoded data removed]",
      "text/plain": [
       "<Figure size 600x300 with 1 Axes>"
      ]
     },
     "metadata": {},
     "output_type": "display_data"
    }
   ],
   "source": [
    "# plot optimum yaw angles based on power\n",
    "fig, ax = plt.subplots(figsize=(6, 3))\n",
    "yaw_opt.power.sel(wd=wd).plot.line(hue=\"wt\")\n",
    "fig.tight_layout()"
   ]
  },
  {
   "cell_type": "code",
   "execution_count": 11,
   "metadata": {},
   "outputs": [],
   "source": [
    "# define objective function for lcoe\n",
    "def obj_lcoe_single(yaw_norm):\n",
    "    sim_res = utils.run_sim(yaw=yaw_norm.reshape(yaw_shape) * yaw_scale, wd=wd)\n",
    "    aep, lcoe, _ = utils.calc_metrics(\n",
    "        sim_res=sim_res,\n",
    "        sim_res_base=sim_res_base,\n",
    "        Sector_frequency=Sector_frequency,\n",
    "        P=P,\n",
    "    )\n",
    "    _, _, lcoe_overall, _ = utils.aggregate_metrics(\n",
    "        aep=aep, lcoe=lcoe, Sector_frequency=Sector_frequency\n",
    "    )\n",
    "    obj = (lcoe_overall / lcoe_direction_base.sel(wd=wd)).values.tolist()\n",
    "    return obj\n",
    "\n",
    "\n",
    "assert np.isclose(obj_lcoe_single(np.zeros(yaw_shape).ravel()), 1)"
   ]
  },
  {
   "cell_type": "code",
   "execution_count": 28,
   "metadata": {},
   "outputs": [],
   "source": [
    "# define optimisation callback\n",
    "def _callback(intermediate_result):\n",
    "    global n\n",
    "    if n % 25 == 0:\n",
    "        print(f\"Iteration {n:3.0f}: obj = {intermediate_result.fun:.5f}\")\n",
    "    n += 1"
   ]
  },
  {
   "cell_type": "code",
   "execution_count": 31,
   "metadata": {},
   "outputs": [
    {
     "data": {
      "application/vnd.jupyter.widget-view+json": {
       "model_id": "0cf98af26170425c83815a825c79178e",
       "version_major": 2,
       "version_minor": 0
      },
      "text/plain": [
       "  0%|          | 0/13 [00:00<?, ?it/s]"
      ]
     },
     "metadata": {},
     "output_type": "display_data"
    },
    {
     "name": "stdout",
     "output_type": "stream",
     "text": [
      "Jacobian is required for dogleg minimization\n",
      "Jacobian is required for Newton-CG trust-region minimization\n",
      "Jacobian is required for trust region exact minimization.\n",
      "('Jacobian is required for trust region ', 'exact minimization.')\n"
     ]
    }
   ],
   "source": [
    "# trial different optimisers\n",
    "method_results = {}\n",
    "for method in tqdm(\n",
    "    [\n",
    "        \"Nelder-Mead\",\n",
    "        \"Powell\",\n",
    "        \"CG\",\n",
    "        \"BFGS\",\n",
    "        # \"Newton-CG\",\n",
    "        \"L-BFGS-B\",\n",
    "        \"TNC\",\n",
    "        \"COBYLA\",\n",
    "        \"SLSQP\",\n",
    "        \"trust-constr\",\n",
    "        # \"dogleg\",\n",
    "        # \"trust-ncg\",\n",
    "        # \"trust-exact\",\n",
    "        \"trust-krylov\",\n",
    "    ]\n",
    "):\n",
    "    try:\n",
    "        n = 0\n",
    "        st = time.time()\n",
    "        res = optimize.minimize(\n",
    "            fun=obj_lcoe_single,\n",
    "            x0=yaw_opt.power.values.ravel() / yaw_scale,\n",
    "            method=method,\n",
    "            # callback=_callback\n",
    "        )\n",
    "        method_results[method] = {\"time\": time.time() - st, \"obj\": res.fun}\n",
    "    except Exception as e:\n",
    "        print(e)\n",
    "    res"
   ]
  },
  {
   "cell_type": "code",
   "execution_count": 33,
   "metadata": {},
   "outputs": [
    {
     "data": {
      "text/html": [
       "<div>\n",
       "<style scoped>\n",
       "    .dataframe tbody tr th:only-of-type {\n",
       "        vertical-align: middle;\n",
       "    }\n",
       "\n",
       "    .dataframe tbody tr th {\n",
       "        vertical-align: top;\n",
       "    }\n",
       "\n",
       "    .dataframe thead th {\n",
       "        text-align: right;\n",
       "    }\n",
       "</style>\n",
       "<table border=\"1\" class=\"dataframe\">\n",
       "  <thead>\n",
       "    <tr style=\"text-align: right;\">\n",
       "      <th></th>\n",
       "      <th>time</th>\n",
       "      <th>obj</th>\n",
       "    </tr>\n",
       "  </thead>\n",
       "  <tbody>\n",
       "    <tr>\n",
       "      <th>Powell</th>\n",
       "      <td>97.708798</td>\n",
       "      <td>0.9921579124363608</td>\n",
       "    </tr>\n",
       "    <tr>\n",
       "      <th>trust-constr</th>\n",
       "      <td>664.996147</td>\n",
       "      <td>0.992158</td>\n",
       "    </tr>\n",
       "    <tr>\n",
       "      <th>COBYLA</th>\n",
       "      <td>31.903464</td>\n",
       "      <td>0.992239</td>\n",
       "    </tr>\n",
       "    <tr>\n",
       "      <th>Nelder-Mead</th>\n",
       "      <td>231.970223</td>\n",
       "      <td>0.992264</td>\n",
       "    </tr>\n",
       "    <tr>\n",
       "      <th>CG</th>\n",
       "      <td>49.182255</td>\n",
       "      <td>0.992264</td>\n",
       "    </tr>\n",
       "    <tr>\n",
       "      <th>L-BFGS-B</th>\n",
       "      <td>16.378526</td>\n",
       "      <td>0.992264</td>\n",
       "    </tr>\n",
       "    <tr>\n",
       "      <th>BFGS</th>\n",
       "      <td>46.181047</td>\n",
       "      <td>0.992264</td>\n",
       "    </tr>\n",
       "    <tr>\n",
       "      <th>TNC</th>\n",
       "      <td>245.733027</td>\n",
       "      <td>0.992264</td>\n",
       "    </tr>\n",
       "    <tr>\n",
       "      <th>SLSQP</th>\n",
       "      <td>3.282698</td>\n",
       "      <td>0.99227</td>\n",
       "    </tr>\n",
       "  </tbody>\n",
       "</table>\n",
       "</div>"
      ],
      "text/plain": [
       "                    time                 obj\n",
       "Powell         97.708798  0.9921579124363608\n",
       "trust-constr  664.996147            0.992158\n",
       "COBYLA         31.903464            0.992239\n",
       "Nelder-Mead   231.970223            0.992264\n",
       "CG             49.182255            0.992264\n",
       "L-BFGS-B       16.378526            0.992264\n",
       "BFGS           46.181047            0.992264\n",
       "TNC           245.733027            0.992264\n",
       "SLSQP           3.282698             0.99227"
      ]
     },
     "execution_count": 33,
     "metadata": {},
     "output_type": "execute_result"
    }
   ],
   "source": [
    "pd.DataFrame(method_results).T.sort_values(\"obj\")"
   ]
  },
  {
   "cell_type": "code",
   "execution_count": null,
   "metadata": {},
   "outputs": [],
   "source": [
    "# run optimisation with iteration counter display\n",
    "n = 0\n",
    "res = optimize.minimize(\n",
    "    fun=obj_lcoe_single, x0=yaw_opt.power.values.ravel() / yaw_scale, callback=_callback\n",
    ")\n",
    "yaw_opt.lcoe.loc[:, :, :] = res.x.reshape(yaw_shape) * yaw_scale\n",
    "res"
   ]
  },
  {
   "cell_type": "code",
   "execution_count": null,
   "metadata": {},
   "outputs": [],
   "source": [
    "# plot optimum yaw angles\n",
    "fig, ax = plt.subplots(figsize=(6, 3))\n",
    "yaw_opt.lcoe.sel(wd=wd).plot.line(hue=\"wt\")\n",
    "fig.tight_layout()"
   ]
  },
  {
   "cell_type": "code",
   "execution_count": null,
   "metadata": {},
   "outputs": [],
   "source": [
    "# rerun simulation for optimum\n",
    "sim_res_opt = utils.run_sim(yaw=yaw_opt.lcoe.values.reshape(yaw_shape), wd=wd)\n",
    "aep_opt, lcoe_opt, cap_fac_opt = utils.calc_metrics(\n",
    "    sim_res=sim_res_opt,\n",
    "    sim_res_base=sim_res_base,\n",
    "    Sector_frequency=Sector_frequency,\n",
    "    P=P,\n",
    ")\n",
    "_, _, lcoe_overall_opt, cap_fac_overall_opt = utils.aggregate_metrics(\n",
    "    aep=aep_opt, lcoe=lcoe_opt, cap_fac=cap_fac_opt, Sector_frequency=Sector_frequency\n",
    ")"
   ]
  },
  {
   "cell_type": "code",
   "execution_count": null,
   "metadata": {},
   "outputs": [],
   "source": [
    "# display comaprison of optimum to baseline\n",
    "print(f\"Baseline LCoE [USD/MWh]      : {lcoe_direction_base.sel(wd=wd).values:.3f}\")\n",
    "print(f\"Optimum LCoE [USD/MWh]       : {lcoe_overall_opt.values:.3f}\")\n",
    "print(\n",
    "    f\"Baseline Capacity Factor [%] : {100*cap_fac_direction_base.sel(wd=wd).values:.3f}\"\n",
    ")\n",
    "print(f\"Optimum Capacity Factor [%]  : {100*cap_fac_overall_opt.values:.3f}\")"
   ]
  }
 ],
 "metadata": {
  "kernelspec": {
   "display_name": "env",
   "language": "python",
   "name": "python3"
  },
  "language_info": {
   "codemirror_mode": {
    "name": "ipython",
    "version": 3
   },
   "file_extension": ".py",
   "mimetype": "text/x-python",
   "name": "python",
   "nbconvert_exporter": "python",
   "pygments_lexer": "ipython3",
   "version": "3.12.1"
  }
 },
 "nbformat": 4,
 "nbformat_minor": 2
}
