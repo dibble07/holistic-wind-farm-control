{
 "cells": [
  {
   "cell_type": "markdown",
   "metadata": {},
   "source": [
    "# Yaw angle optimisation\n",
    "Calculating the optimum yaw angle for turbines across a range of wakes and wind speeds"
   ]
  },
  {
   "cell_type": "markdown",
   "metadata": {},
   "source": [
    "## Setup"
   ]
  },
  {
   "cell_type": "code",
   "execution_count": null,
   "metadata": {},
   "outputs": [],
   "source": [
    "# import libraries\n",
    "import logging\n",
    "\n",
    "import numpy as np\n",
    "from scipy import optimize\n",
    "\n",
    "import utils"
   ]
  },
  {
   "cell_type": "code",
   "execution_count": null,
   "metadata": {},
   "outputs": [],
   "source": [
    "# set constants\n",
    "yaw_scale = 30"
   ]
  },
  {
   "cell_type": "markdown",
   "metadata": {},
   "source": [
    "## Baseline values"
   ]
  },
  {
   "cell_type": "code",
   "execution_count": null,
   "metadata": {},
   "outputs": [],
   "source": [
    "# run baseline simulation\n",
    "sim_res_base = utils.run_sim()"
   ]
  },
  {
   "cell_type": "code",
   "execution_count": null,
   "metadata": {},
   "outputs": [],
   "source": [
    "# ensure probabilities (wind direction and speed) total 1\n",
    "Sector_frequency = sim_res_base.Sector_frequency\n",
    "if not np.isclose(Sector_frequency.sum(), 1):\n",
    "    logging.warning(\n",
    "        f\"Sector frequency renormalised as total probability was {Sector_frequency.sum().values}\"\n",
    "    )\n",
    "    Sector_frequency = Sector_frequency / Sector_frequency.sum()\n",
    "P = sim_res_base.P\n",
    "if not np.isclose(P.sum(), 1):\n",
    "    logging.warning(f\"P renormalised as total probability was {P.sum().values}\")\n",
    "    P = P / P.sum()"
   ]
  },
  {
   "cell_type": "code",
   "execution_count": null,
   "metadata": {},
   "outputs": [],
   "source": [
    "# calculate baseline metrics\n",
    "aep_base, lcoe_base, _ = utils.calc_metrics(\n",
    "    sim_res=sim_res_base,\n",
    "    sim_res_base=sim_res_base,\n",
    "    Sector_frequency=Sector_frequency,\n",
    "    P=P,\n",
    "    show=True,\n",
    ")\n",
    "lcoe_direction_base, _, lcoe_overall_base, _ = utils.aggregate_metrics(\n",
    "    aep=aep_base, lcoe=lcoe_base, Sector_frequency=Sector_frequency\n",
    ")"
   ]
  },
  {
   "cell_type": "markdown",
   "metadata": {},
   "source": [
    "## Optimise across for a single wind direction"
   ]
  },
  {
   "cell_type": "code",
   "execution_count": null,
   "metadata": {},
   "outputs": [],
   "source": [
    "# define objective function\n",
    "yaw_shape = (len(sim_res_base.wt), len(sim_res_base.wd), len(sim_res_base.ws))\n",
    "\n",
    "\n",
    "def obj_single(yaw_norm):\n",
    "    sim_res = utils.run_sim(yaw=yaw_norm.reshape(yaw_shape) * yaw_scale)\n",
    "    aep, lcoe, _ = utils.calc_metrics(\n",
    "        sim_res=sim_res,\n",
    "        sim_res_base=sim_res_base,\n",
    "        Sector_frequency=Sector_frequency,\n",
    "        P=P,\n",
    "    )\n",
    "    lcoe_direction, _, lcoe_overall, _ = utils.aggregate_metrics(\n",
    "        aep=aep, lcoe=lcoe, Sector_frequency=Sector_frequency\n",
    "    )\n",
    "    # display(lcoe_direction)\n",
    "    # display(lcoe_direction_base)\n",
    "    # display(lcoe_overall)\n",
    "    # display(lcoe_overall_base)\n",
    "    obj = (lcoe_overall / lcoe_overall_base).values.tolist()\n",
    "    return obj"
   ]
  },
  {
   "cell_type": "code",
   "execution_count": null,
   "metadata": {},
   "outputs": [],
   "source": [
    "assert obj_single(np.zeros(yaw_shape)) == 1"
   ]
  },
  {
   "cell_type": "code",
   "execution_count": null,
   "metadata": {},
   "outputs": [],
   "source": [
    "# obj_single(np.arange(np.prod(yaw_shape)).reshape(yaw_shape)/1000/yaw_scale)"
   ]
  },
  {
   "cell_type": "code",
   "execution_count": null,
   "metadata": {},
   "outputs": [],
   "source": [
    "# n = 0\n",
    "\n",
    "# def _callback(x):\n",
    "#     global n\n",
    "#     print(f\"--- Iteration {n} ---\")\n",
    "#     print(x)\n",
    "#     n += 1\n",
    "\n",
    "# res = optimize.minimize(\n",
    "#     fun=obj_single,\n",
    "#     x0=np.zeros_like(sim_res_base.Power).ravel(),\n",
    "#     callback=_callback\n",
    "# )\n",
    "# res"
   ]
  },
  {
   "cell_type": "code",
   "execution_count": null,
   "metadata": {},
   "outputs": [],
   "source": [
    "# np.round(res.x * yaw_scale, 1)"
   ]
  }
 ],
 "metadata": {
  "kernelspec": {
   "display_name": "env",
   "language": "python",
   "name": "python3"
  },
  "language_info": {
   "codemirror_mode": {
    "name": "ipython",
    "version": 3
   },
   "file_extension": ".py",
   "mimetype": "text/x-python",
   "name": "python",
   "nbconvert_exporter": "python",
   "pygments_lexer": "ipython3",
   "version": "3.12.1"
  }
 },
 "nbformat": 4,
 "nbformat_minor": 2
}
