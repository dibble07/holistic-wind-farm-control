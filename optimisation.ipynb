{
 "cells": [
  {
   "cell_type": "markdown",
   "metadata": {},
   "source": [
    "# Yaw angle optimisation\n",
    "Calculating the optimum yaw angle for turbines across a range of wakes and wind speeds"
   ]
  },
  {
   "cell_type": "markdown",
   "metadata": {},
   "source": [
    "## To do\n",
    "- Increase fidelity\n",
    "    - Assess difference in speed of calculation and optimal values\n",
    "- Loop over wind direction\n",
    "    - Parallelise using PQDM\n",
    "- Assess results\n",
    "    - Sensitivity to wind direction/speed\n",
    "    - Variation in sensitivity between turbines\n",
    "    - Increase number of turbines"
   ]
  },
  {
   "cell_type": "markdown",
   "metadata": {},
   "source": [
    "## Setup"
   ]
  },
  {
   "cell_type": "code",
   "execution_count": null,
   "metadata": {},
   "outputs": [],
   "source": [
    "# import libraries\n",
    "import logging\n",
    "\n",
    "import numpy as np\n",
    "import xarray as xr\n",
    "\n",
    "import utils\n",
    "\n",
    "logging.basicConfig(level=logging.INFO)"
   ]
  },
  {
   "cell_type": "markdown",
   "metadata": {},
   "source": [
    "## Baseline values"
   ]
  },
  {
   "cell_type": "code",
   "execution_count": null,
   "metadata": {},
   "outputs": [],
   "source": [
    "# run baseline simulation\n",
    "sim_res_ref, Sector_frequency, P = utils.run_sim(\n",
    "    wfm=utils.wfm_low,\n",
    "    x=utils.wt9_x,\n",
    "    y=utils.wt9_y,\n",
    "    yaw=0,\n",
    "    ws=utils.WS_DEFAULT,\n",
    "    wd=utils.WD_DEFAULT,\n",
    ")"
   ]
  },
  {
   "cell_type": "markdown",
   "metadata": {},
   "source": [
    "## Optimise across for a single wind direction"
   ]
  },
  {
   "cell_type": "code",
   "execution_count": null,
   "metadata": {},
   "outputs": [],
   "source": [
    "# define constants\n",
    "wd = 270\n",
    "yaw_shape = (len(sim_res_ref.wt), 1, len(sim_res_ref.ws))"
   ]
  },
  {
   "cell_type": "code",
   "execution_count": null,
   "metadata": {},
   "outputs": [],
   "source": [
    "# initialise optimal yaw dataset\n",
    "yaw_opt = xr.Dataset(\n",
    "    coords={\n",
    "        \"wt\": list(sim_res_ref.wt.values),\n",
    "        \"wd\": [wd],\n",
    "        \"ws\": list(sim_res_ref.ws.values),\n",
    "    },\n",
    ")"
   ]
  },
  {
   "cell_type": "code",
   "execution_count": null,
   "metadata": {},
   "outputs": [],
   "source": [
    "# run optimisation and save output\n",
    "yaw_opt_power, yaw_opt_lcoe = utils.optimise_direction(\n",
    "    wd=wd,\n",
    "    sim_res_ref=sim_res_ref,\n",
    "    Sector_frequency=Sector_frequency,\n",
    "    P=P,\n",
    ")\n",
    "yaw_opt[\"power\"] = ([\"wt\", \"wd\", \"ws\"], yaw_opt_power)\n",
    "yaw_opt[\"lcoe\"] = ([\"wt\", \"wd\", \"ws\"], yaw_opt_lcoe)"
   ]
  },
  {
   "cell_type": "code",
   "execution_count": null,
   "metadata": {},
   "outputs": [],
   "source": [
    "# rerun simulation for optimum\n",
    "sim_res_opt, _, _ = utils.run_sim(\n",
    "    wfm=utils.wfm_low,\n",
    "    x=utils.wt9_x,\n",
    "    y=utils.wt9_y,\n",
    "    yaw=yaw_opt.lcoe.values.reshape(yaw_shape),\n",
    "    ws=utils.WS_DEFAULT,\n",
    "    wd=[wd],\n",
    "    sim_res_ref=sim_res_ref.sel(wd=[wd]),\n",
    "    Sector_frequency=Sector_frequency,\n",
    "    P=P,\n",
    ")\n",
    "sim_res_opt"
   ]
  },
  {
   "cell_type": "code",
   "execution_count": null,
   "metadata": {},
   "outputs": [],
   "source": [
    "# display comaprison of optimum to baseline\n",
    "print(\n",
    "    f\"Baseline LCoE [USD/MWh]      : {sim_res_ref.lcoe_direction.sel(wd=wd).values:.3f}\"\n",
    ")\n",
    "print(f\"Optimum LCoE [USD/MWh]       : {sim_res_opt.lcoe_overall.values:.3f}\")\n",
    "print(\n",
    "    f\"Baseline Capacity Factor [%] : {100*sim_res_ref.cap_fac_direction.sel(wd=wd).values:.3f}\"\n",
    ")\n",
    "print(f\"Optimum Capacity Factor [%]  : {100*sim_res_opt.cap_fac_overall.values:.3f}\")"
   ]
  }
 ],
 "metadata": {
  "kernelspec": {
   "display_name": "env",
   "language": "python",
   "name": "python3"
  },
  "language_info": {
   "codemirror_mode": {
    "name": "ipython",
    "version": 3
   },
   "file_extension": ".py",
   "mimetype": "text/x-python",
   "name": "python",
   "nbconvert_exporter": "python",
   "pygments_lexer": "ipython3",
   "version": "3.12.1"
  }
 },
 "nbformat": 4,
 "nbformat_minor": 2
}
