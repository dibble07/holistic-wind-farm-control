{
 "cells": [
  {
   "cell_type": "markdown",
   "metadata": {},
   "source": [
    "# Yaw angle optimisation\n",
    "Calculating the optimum yaw angle for turbines across a range of wakes and wind speeds"
   ]
  },
  {
   "cell_type": "markdown",
   "metadata": {},
   "source": [
    "## To do\n",
    "- Loop over wind direction\n",
    "    - Parallelise using PQDM\n",
    "- Compare optimals to lossless and phrase wake steering as recovering % of wake losses\n",
    "- Assess difference in speed of calculation and optimal values when using different fidelity for final optimisation\n",
    "- Assess results\n",
    "    - Sensitivity to wind direction/speed\n",
    "    - Variation in sensitivity between turbines\n",
    "    - Increase number of turbines"
   ]
  },
  {
   "cell_type": "markdown",
   "metadata": {},
   "source": [
    "## Setup"
   ]
  },
  {
   "cell_type": "code",
   "execution_count": null,
   "metadata": {},
   "outputs": [],
   "source": [
    "# import libraries\n",
    "import logging\n",
    "\n",
    "import numpy as np\n",
    "import xarray as xr\n",
    "\n",
    "import utils\n",
    "\n",
    "logging.basicConfig(\n",
    "    format=\"%(asctime)s:%(levelname)s:%(message)s\",\n",
    "    datefmt=\"%H:%M:%S\",\n",
    "    level=logging.INFO,\n",
    ")"
   ]
  },
  {
   "cell_type": "markdown",
   "metadata": {},
   "source": [
    "## Baseline values"
   ]
  },
  {
   "cell_type": "code",
   "execution_count": null,
   "metadata": {},
   "outputs": [],
   "source": [
    "# extract probabilities for full wind speed/direction range\n",
    "_, Sector_frequency, P = utils.run_sim(\n",
    "    wfm=utils.wfm_low,\n",
    "    x=utils.wt9_x,\n",
    "    y=utils.wt9_y,\n",
    "    yaw=0,\n",
    "    ws=utils.WS_DEFAULT,\n",
    "    wd=utils.WD_DEFAULT,\n",
    ")"
   ]
  },
  {
   "cell_type": "code",
   "execution_count": null,
   "metadata": {},
   "outputs": [],
   "source": [
    "# drop wind speeds below cut in speed\n",
    "ind_cut_in = np.argmax(utils.wfm_low.windTurbines.power(utils.WS_DEFAULT) > 0)\n",
    "ws = utils.WS_DEFAULT[ind_cut_in:]"
   ]
  },
  {
   "cell_type": "code",
   "execution_count": null,
   "metadata": {},
   "outputs": [],
   "source": [
    "# run baseline simulations\n",
    "print(\"--- Lossless ---\")\n",
    "sim_res_ref_lossless, _, _ = utils.run_sim(\n",
    "    wfm=utils.wfm_lossless,\n",
    "    x=utils.wt9_x,\n",
    "    y=utils.wt9_y,\n",
    "    yaw=0,\n",
    "    ws=ws,\n",
    "    wd=utils.WD_DEFAULT,\n",
    "    Sector_frequency=Sector_frequency,\n",
    "    P=P,\n",
    "    show=True,\n",
    ")\n",
    "\n",
    "print(\"\\n--- Low Fidelity ---\")\n",
    "sim_res_ref_low, _, _ = utils.run_sim(\n",
    "    wfm=utils.wfm_low,\n",
    "    x=utils.wt9_x,\n",
    "    y=utils.wt9_y,\n",
    "    yaw=0,\n",
    "    ws=ws,\n",
    "    wd=utils.WD_DEFAULT,\n",
    "    Sector_frequency=Sector_frequency,\n",
    "    P=P,\n",
    "    show=True,\n",
    ")\n",
    "\n",
    "print(\"\\n--- High Fidelity ---\")\n",
    "sim_res_ref_high, _, _ = utils.run_sim(\n",
    "    wfm=utils.wfm_high,\n",
    "    x=utils.wt9_x,\n",
    "    y=utils.wt9_y,\n",
    "    yaw=0,\n",
    "    ws=ws,\n",
    "    wd=utils.WD_DEFAULT,\n",
    "    Sector_frequency=Sector_frequency,\n",
    "    P=P,\n",
    "    show=True,\n",
    ")"
   ]
  },
  {
   "cell_type": "markdown",
   "metadata": {},
   "source": [
    "## Optimise across for a single wind direction"
   ]
  },
  {
   "cell_type": "code",
   "execution_count": null,
   "metadata": {},
   "outputs": [],
   "source": [
    "# define constants\n",
    "wd = 270\n",
    "yaw_shape = (len(sim_res_ref_low.wt), 1, len(sim_res_ref_low.ws))"
   ]
  },
  {
   "cell_type": "code",
   "execution_count": null,
   "metadata": {},
   "outputs": [],
   "source": [
    "# initialise optimal yaw dataset\n",
    "yaw_opt = xr.Dataset(\n",
    "    coords={\n",
    "        \"wt\": list(sim_res_ref_low.wt.values),\n",
    "        \"wd\": [wd],\n",
    "        \"ws\": list(sim_res_ref_low.ws.values),\n",
    "    },\n",
    ")"
   ]
  },
  {
   "cell_type": "code",
   "execution_count": null,
   "metadata": {},
   "outputs": [],
   "source": [
    "# run optimisation and save output\n",
    "yaw_opt_power, yaw_opt_lcoe = utils.optimise_direction(\n",
    "    wd=wd,\n",
    "    sim_res_ref_low=sim_res_ref_low,\n",
    "    sim_res_ref_high=sim_res_ref_high,\n",
    "    Sector_frequency=Sector_frequency,\n",
    "    P=P,\n",
    ")\n",
    "yaw_opt[\"power\"] = ([\"wt\", \"wd\", \"ws\"], yaw_opt_power)\n",
    "yaw_opt[\"lcoe\"] = ([\"wt\", \"wd\", \"ws\"], yaw_opt_lcoe)"
   ]
  },
  {
   "cell_type": "code",
   "execution_count": null,
   "metadata": {},
   "outputs": [],
   "source": [
    "# rerun simulation for optimum\n",
    "sim_res_opt, _, _ = utils.run_sim(\n",
    "    wfm=utils.wfm_high,\n",
    "    x=utils.wt9_x,\n",
    "    y=utils.wt9_y,\n",
    "    yaw=yaw_opt.lcoe.values.reshape(yaw_shape),\n",
    "    ws=ws,\n",
    "    wd=[wd],\n",
    "    sim_res_ref=sim_res_ref_high.sel(wd=[wd]),\n",
    "    Sector_frequency=Sector_frequency,\n",
    "    P=P,\n",
    ")\n",
    "sim_res_opt"
   ]
  },
  {
   "cell_type": "code",
   "execution_count": null,
   "metadata": {},
   "outputs": [],
   "source": [
    "# display comaprison of optimum to baseline\n",
    "print(\n",
    "    f\"Lossless LCoE [USD/MWh]      : {sim_res_ref_lossless.lcoe_direction.sel(wd=wd).values:.3f}\"\n",
    ")\n",
    "print(\n",
    "    f\"Baseline LCoE [USD/MWh]      : {sim_res_ref_high.lcoe_direction.sel(wd=wd).values:.3f}\"\n",
    ")\n",
    "print(f\"Optimum LCoE [USD/MWh]       : {sim_res_opt.lcoe_overall.values:.3f}\")\n",
    "print(\n",
    "    f\"Recovered LCoE [%] : {100-100*(sim_res_ref_lossless.lcoe_direction.sel(wd=wd).values - sim_res_opt.lcoe_overall.values)/(sim_res_ref_lossless.lcoe_direction.sel(wd=wd).values - sim_res_ref_high.lcoe_direction.sel(wd=wd).values):.2f}\"\n",
    ")\n",
    "print(\n",
    "    f\"Lossless Capacity Factor [%] : {100*sim_res_ref_lossless.cap_fac_direction.sel(wd=wd).values:.3f}\"\n",
    ")\n",
    "print(\n",
    "    f\"Baseline Capacity Factor [%] : {100*sim_res_ref_high.cap_fac_direction.sel(wd=wd).values:.3f}\"\n",
    ")\n",
    "print(f\"Optimum Capacity Factor [%]  : {100*sim_res_opt.cap_fac_overall.values:.3f}\")\n",
    "print(\n",
    "    f\"Recovered Capacity Factor [%] : {100-100*(sim_res_ref_lossless.cap_fac_direction.sel(wd=wd).values - sim_res_opt.cap_fac_overall.values)/(sim_res_ref_lossless.cap_fac_direction.sel(wd=wd).values - sim_res_ref_high.cap_fac_direction.sel(wd=wd).values):.2f}\"\n",
    ")"
   ]
  }
 ],
 "metadata": {
  "kernelspec": {
   "display_name": "env",
   "language": "python",
   "name": "python3"
  },
  "language_info": {
   "codemirror_mode": {
    "name": "ipython",
    "version": 3
   },
   "file_extension": ".py",
   "mimetype": "text/x-python",
   "name": "python",
   "nbconvert_exporter": "python",
   "pygments_lexer": "ipython3",
   "version": "3.12.1"
  }
 },
 "nbformat": 4,
 "nbformat_minor": 2
}
