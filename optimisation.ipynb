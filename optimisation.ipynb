{
 "cells": [
  {
   "cell_type": "markdown",
   "metadata": {},
   "source": [
    "# Yaw angle optimisation\n",
    "Calculating the optimum yaw angle for turbines across a range of wakes and wind speeds"
   ]
  },
  {
   "cell_type": "markdown",
   "metadata": {},
   "source": [
    "## To do\n",
    "- Answer questions\n",
    "- Assess difference in speed of calculation and optimal values when using different fidelity for final optimisation\n",
    "- Increase number of turbines"
   ]
  },
  {
   "cell_type": "markdown",
   "metadata": {},
   "source": [
    "## Setup"
   ]
  },
  {
   "cell_type": "code",
   "execution_count": null,
   "metadata": {},
   "outputs": [],
   "source": [
    "# import libraries\n",
    "import logging\n",
    "import math\n",
    "import os\n",
    "\n",
    "import matplotlib.pyplot as plt\n",
    "import numpy as np\n",
    "import pandas as pd\n",
    "import xarray as xr\n",
    "from pqdm.processes import pqdm\n",
    "from tqdm.notebook import tqdm\n",
    "\n",
    "import utils\n",
    "\n",
    "logging.basicConfig(\n",
    "    format=\"%(asctime)s:%(levelname)s:%(message)s\",\n",
    "    datefmt=\"%H:%M:%S\",\n",
    "    level=logging.INFO,\n",
    ")"
   ]
  },
  {
   "cell_type": "markdown",
   "metadata": {},
   "source": [
    "## Baseline values"
   ]
  },
  {
   "cell_type": "code",
   "execution_count": null,
   "metadata": {},
   "outputs": [],
   "source": [
    "# extract probabilities for full wind speed/direction range\n",
    "_, Sector_frequency, P = utils.run_sim(\n",
    "    wfm=utils.wfm_low,\n",
    "    x=utils.wt9_x,\n",
    "    y=utils.wt9_y,\n",
    "    yaw=0,\n",
    "    ws=utils.WS_DEFAULT,\n",
    "    wd=utils.WD_DEFAULT,\n",
    ")"
   ]
  },
  {
   "cell_type": "code",
   "execution_count": null,
   "metadata": {},
   "outputs": [],
   "source": [
    "# drop wind speeds below cut in speed\n",
    "ind_cut_in = np.argmax(utils.wfm_low.windTurbines.power(utils.WS_DEFAULT) > 0)\n",
    "ws = utils.WS_DEFAULT[ind_cut_in:]"
   ]
  },
  {
   "cell_type": "code",
   "execution_count": null,
   "metadata": {},
   "outputs": [],
   "source": [
    "# run baseline simulations\n",
    "print(\"--- Lossless ---\")\n",
    "sim_res_ref_lossless, _, _ = utils.run_sim(\n",
    "    wfm=utils.wfm_lossless,\n",
    "    x=utils.wt9_x,\n",
    "    y=utils.wt9_y,\n",
    "    yaw=0,\n",
    "    ws=ws,\n",
    "    wd=utils.WD_DEFAULT,\n",
    "    Sector_frequency=Sector_frequency,\n",
    "    P=P,\n",
    "    show=True,\n",
    ")\n",
    "\n",
    "print(\"\\n--- Low Fidelity ---\")\n",
    "sim_res_ref_low, _, _ = utils.run_sim(\n",
    "    wfm=utils.wfm_low,\n",
    "    x=utils.wt9_x,\n",
    "    y=utils.wt9_y,\n",
    "    yaw=0,\n",
    "    ws=ws,\n",
    "    wd=utils.WD_DEFAULT,\n",
    "    Sector_frequency=Sector_frequency,\n",
    "    P=P,\n",
    "    show=True,\n",
    ")\n",
    "\n",
    "print(\"\\n--- High Fidelity ---\")\n",
    "sim_res_ref_high, _, _ = utils.run_sim(\n",
    "    wfm=utils.wfm_high,\n",
    "    x=utils.wt9_x,\n",
    "    y=utils.wt9_y,\n",
    "    yaw=0,\n",
    "    ws=ws,\n",
    "    wd=utils.WD_DEFAULT,\n",
    "    Sector_frequency=Sector_frequency,\n",
    "    P=P,\n",
    "    show=True,\n",
    ")"
   ]
  },
  {
   "cell_type": "markdown",
   "metadata": {},
   "source": [
    "## Optimise yaw angles"
   ]
  },
  {
   "cell_type": "code",
   "execution_count": null,
   "metadata": {},
   "outputs": [],
   "source": [
    "# initialise optimal yaw dataset\n",
    "coords = {\n",
    "    \"wt\": list(sim_res_ref_low.wt.values),\n",
    "    \"wd\": list(sim_res_ref_low.wd.values),\n",
    "    \"ws\": list(sim_res_ref_low.ws.values),\n",
    "}\n",
    "yaw_opt = xr.Dataset(\n",
    "    data_vars={\n",
    "        \"init\": (\n",
    "            list(coords.keys()),\n",
    "            np.full([len(x) for x in coords.values()], np.nan),\n",
    "        ),\n",
    "        \"final\": (\n",
    "            list(coords.keys()),\n",
    "            np.full([len(x) for x in coords.values()], np.nan),\n",
    "        ),\n",
    "    },\n",
    "    coords=coords,\n",
    ")"
   ]
  },
  {
   "cell_type": "code",
   "execution_count": null,
   "metadata": {},
   "outputs": [],
   "source": [
    "# run optimisations and save output\n",
    "simulations_in = [\n",
    "    dict(\n",
    "        wd=wd_,\n",
    "        sim_res_ref_low=sim_res_ref_low,\n",
    "        sim_res_ref_high=sim_res_ref_high,\n",
    "        Sector_frequency=Sector_frequency,\n",
    "        P=P,\n",
    "    )\n",
    "    for wd_ in sim_res_ref_low.wd.values\n",
    "]\n",
    "simulations_out = pqdm(\n",
    "    array=simulations_in,\n",
    "    function=utils.optimise_direction,\n",
    "    n_jobs=int(0.75 * os.cpu_count()),\n",
    "    argument_type=\"kwargs\",\n",
    ")\n",
    "for input, (yaw_opt_init, yaw_opt_final) in tqdm(\n",
    "    zip(simulations_in, simulations_out),\n",
    "    total=len(simulations_out),\n",
    "    desc=\"Saving values to dataset\",\n",
    "):\n",
    "    yaw_opt[\"init\"].loc[\n",
    "        :,\n",
    "        input[\"wd\"],\n",
    "        :,\n",
    "    ] = yaw_opt_init\n",
    "    yaw_opt[\"final\"].loc[\n",
    "        :,\n",
    "        input[\"wd\"],\n",
    "        :,\n",
    "    ] = yaw_opt_final"
   ]
  },
  {
   "cell_type": "code",
   "execution_count": null,
   "metadata": {},
   "outputs": [],
   "source": [
    "# rerun simulation for optimum\n",
    "sim_res_opt, _, _ = utils.run_sim(\n",
    "    wfm=utils.wfm_high,\n",
    "    x=utils.wt9_x,\n",
    "    y=utils.wt9_y,\n",
    "    yaw=yaw_opt.final,\n",
    "    ws=ws,\n",
    "    wd=yaw_opt.wd,\n",
    "    sim_res_ref=sim_res_ref_high,\n",
    "    Sector_frequency=Sector_frequency,\n",
    "    P=P,\n",
    ")"
   ]
  },
  {
   "cell_type": "markdown",
   "metadata": {},
   "source": [
    "## Overall results"
   ]
  },
  {
   "cell_type": "code",
   "execution_count": null,
   "metadata": {},
   "outputs": [],
   "source": [
    "# display comaprison of optimum to baseline\n",
    "print(\"--- LCoE ---\")\n",
    "print(f\"Lossless [USD/MWh] : {sim_res_ref_lossless.lcoe_overall.values:.3f}\")\n",
    "print(f\"Baseline [USD/MWh] : {sim_res_ref_high.lcoe_overall.values:.3f}\")\n",
    "print(f\"Optimum [USD/MWh]  : {sim_res_opt.lcoe_overall.values:.3f}\")\n",
    "print(\n",
    "    f\"Recovered [%]      : {100-100*(sim_res_ref_lossless.lcoe_overall - sim_res_opt.lcoe_overall)/(sim_res_ref_lossless.lcoe_overall - sim_res_ref_high.lcoe_overall):.2f}\"\n",
    ")\n",
    "print(\"\\n--- Capacity Factor ---\")\n",
    "print(f\"Lossless [%]  : {100*sim_res_ref_lossless.cap_fac_overall.values:.3f}\")\n",
    "print(f\"Baseline [%]  : {100*sim_res_ref_high.cap_fac_overall.values:.3f}\")\n",
    "print(f\"Optimum [%]   : {100*sim_res_opt.cap_fac_overall.values:.3f}\")\n",
    "print(\n",
    "    f\"Recovered [%] : {100-100*(sim_res_ref_lossless.cap_fac_overall - sim_res_opt.cap_fac_overall)/(sim_res_ref_lossless.cap_fac_overall - sim_res_ref_high.cap_fac_overall):.2f}\"\n",
    ")"
   ]
  },
  {
   "cell_type": "markdown",
   "metadata": {},
   "source": [
    "## Breakdown results"
   ]
  },
  {
   "cell_type": "code",
   "execution_count": null,
   "metadata": {},
   "outputs": [],
   "source": [
    "# plot improvements across directions\n",
    "\n",
    "# initialise\n",
    "fig, ax_all = plt.subplots(ncols=3, nrows=2, figsize=(15, 8))\n",
    "lcoe_delta = pd.concat(\n",
    "    [\n",
    "        (sim_res_ref_high.lcoe_direction - sim_res_ref_lossless.lcoe_direction)\n",
    "        .to_series()\n",
    "        .rename(\"baseline\"),\n",
    "        (sim_res_opt.lcoe_direction - sim_res_ref_lossless.lcoe_direction)\n",
    "        .to_series()\n",
    "        .rename(\"optimum\"),\n",
    "    ],\n",
    "    axis=1,\n",
    ").clip(lower=0)\n",
    "cap_fac_delta = pd.concat(\n",
    "    [\n",
    "        (sim_res_ref_high.cap_fac_direction - sim_res_ref_lossless.cap_fac_direction)\n",
    "        .to_series()\n",
    "        .rename(\"baseline\"),\n",
    "        (sim_res_opt.cap_fac_direction - sim_res_ref_lossless.cap_fac_direction)\n",
    "        .to_series()\n",
    "        .rename(\"optimum\"),\n",
    "    ],\n",
    "    axis=1,\n",
    ").clip(upper=0)\n",
    "\n",
    "# lossless lcoe\n",
    "sim_res_ref_lossless.lcoe_direction.to_series().plot.bar(ax=ax_all[0, 0])\n",
    "ax_all[0, 0].set_ylim(\n",
    "    bottom=math.floor(sim_res_ref_lossless.lcoe_direction.min() / 5) * 5\n",
    ")\n",
    "ax_all[0, 0].set_ylabel(\"LCoE [USD/MWh]\")\n",
    "ax_all[0, 0].set_title(\"Lossless\")\n",
    "# wake loss lcoe\n",
    "lcoe_delta.plot.bar(ax=ax_all[0, 1])\n",
    "ax_all[0, 1].set_ylabel(r\"$\\Delta$ LCoE [USD/MWh]\")\n",
    "ax_all[0, 1].set_title(\"Wake losses\")\n",
    "# lcoe recovery\n",
    "(100 - 100 * lcoe_delta[\"optimum\"] / lcoe_delta[\"baseline\"]).plot.bar(ax=ax_all[0, 2])\n",
    "ax_all[0, 2].set_ylabel(\"LCoE [% of losses]\")\n",
    "ax_all[0, 2].set_title(\"Recovered\")\n",
    "\n",
    "# lossless capacity factor\n",
    "(100 * sim_res_ref_lossless.cap_fac_direction).to_series().plot.bar(ax=ax_all[1, 0])\n",
    "ax_all[1, 0].set_ylim(\n",
    "    bottom=math.floor(100 * sim_res_ref_lossless.cap_fac_direction.min() / 5) * 5\n",
    ")\n",
    "ax_all[1, 0].set_ylabel(\"Capacity Factor [%]\")\n",
    "ax_all[1, 0].set_title(\"Lossless\")\n",
    "# wake loss capacity factor\n",
    "(100 * cap_fac_delta).plot.bar(ax=ax_all[1, 1])\n",
    "ax_all[1, 1].set_ylabel(r\"$\\Delta$ Capacity Factor [%]\")\n",
    "ax_all[1, 1].set_title(\"Wake losses\")\n",
    "# capacity factor recovery\n",
    "(100 - 100 * cap_fac_delta[\"optimum\"] / cap_fac_delta[\"baseline\"]).plot.bar(\n",
    "    ax=ax_all[1, 2]\n",
    ")\n",
    "ax_all[1, 2].set_ylabel(\"Capacity Factor [% of losses]\")\n",
    "ax_all[1, 2].set_title(\"Recovered\")\n",
    "\n",
    "fig.tight_layout()"
   ]
  },
  {
   "cell_type": "code",
   "execution_count": null,
   "metadata": {},
   "outputs": [],
   "source": [
    "# plot flow maps\n",
    "fig, ax_all = plt.subplots(ncols=6, nrows=2, figsize=(15, 5))\n",
    "ws_ = 12\n",
    "for wd_, ax in tqdm(\n",
    "    zip(sim_res_ref_high.wd.values, ax_all.flatten()), total=len(sim_res_ref_high.wd)\n",
    "):\n",
    "    sim_res, _, _ = utils.run_sim(\n",
    "        wfm=utils.wfm_high,\n",
    "        x=utils.wt9_x,\n",
    "        y=utils.wt9_y,\n",
    "        yaw=yaw_opt.final.sel(wd=[wd_], ws=ws_),\n",
    "        ws=ws_,\n",
    "        wd=[wd_],\n",
    "        sim_res_ref=sim_res_ref_high.sel(wd=[wd_], ws=ws_),\n",
    "        Sector_frequency=Sector_frequency,\n",
    "        P=P,\n",
    "    )\n",
    "    fm = sim_res.flow_map()\n",
    "    fm.plot_wake_map(\n",
    "        plot_colorbar=False,\n",
    "        normalize_with=utils.wfm_high.windTurbines.diameter(),\n",
    "        ax=ax,\n",
    "    )\n",
    "    ax.get_legend().remove()\n",
    "    ax.grid()\n",
    "    ax.set_title(f\"wd={wd_}\")\n",
    "\n",
    "fig.tight_layout()"
   ]
  },
  {
   "cell_type": "code",
   "execution_count": null,
   "metadata": {},
   "outputs": [],
   "source": [
    "# plot initial optimal yaw values (from optimising power using low fidelity model)\n",
    "fig, ax_all = plt.subplots(ncols=4, nrows=3, figsize=(15, 8))\n",
    "for i, (wd_, ax) in enumerate(zip(yaw_opt.wd.values, ax_all.flatten())):\n",
    "    yaw_opt.init.sel(wd=wd_).to_dataframe().pivot_table(\n",
    "        values=\"init\", index=\"ws\", columns=\"wt\"\n",
    "    ).plot(ax=ax, fillstyle=\"none\", ms=6)\n",
    "    for line, marker in zip(\n",
    "        ax.get_lines(), [\"o\", \"v\", \"^\", \"+\", \"s\", \"1\", \"2\", \"3\", \"4\"]\n",
    "    ):\n",
    "        line.set_marker(marker)\n",
    "    ax.set_title(f\"wd = {wd_}\")\n",
    "    ax.grid()\n",
    "    if i == 0:\n",
    "        ax.legend(ncol=2)\n",
    "    else:\n",
    "        ax.get_legend().remove()\n",
    "fig.tight_layout()"
   ]
  },
  {
   "cell_type": "code",
   "execution_count": null,
   "metadata": {},
   "outputs": [],
   "source": [
    "# plot final optimal yaw values (from optimising lcoe using high fidelity model)\n",
    "fig, ax_all = plt.subplots(ncols=4, nrows=3, figsize=(15, 8))\n",
    "for i, (wd_, ax) in enumerate(zip(yaw_opt.wd.values, ax_all.flatten())):\n",
    "    yaw_opt.final.sel(wd=wd_).to_dataframe().pivot_table(\n",
    "        values=\"final\", index=\"ws\", columns=\"wt\"\n",
    "    ).plot(ax=ax, fillstyle=\"none\", ms=5)\n",
    "    for line, marker in zip(\n",
    "        ax.get_lines(), [\"o\", \"v\", \"^\", \"+\", \"s\", \"1\", \"2\", \"3\", \"4\"]\n",
    "    ):\n",
    "        line.set_marker(marker)\n",
    "    ax.set_title(f\"wd = {wd_}\")\n",
    "    ax.grid()\n",
    "    if i == 0:\n",
    "        ax.legend(ncol=2)\n",
    "    else:\n",
    "        ax.get_legend().remove()\n",
    "fig.tight_layout()"
   ]
  },
  {
   "cell_type": "code",
   "execution_count": null,
   "metadata": {},
   "outputs": [],
   "source": [
    "# plot change in wind farm power\n",
    "power_delta = sim_res_opt.Power - sim_res_ref_high.Power\n",
    "fig, ax = plt.subplots(figsize=(6, 3))\n",
    "power_delta.sum(\"wt\").plot(ax=ax, cmap=\"Greens\", vmin=0)\n",
    "ax.grid()\n",
    "ax.set_yticks(sim_res_opt.wd)\n",
    "fig.tight_layout()"
   ]
  },
  {
   "cell_type": "code",
   "execution_count": null,
   "metadata": {},
   "outputs": [],
   "source": [
    "# plot change in individual wind turbine power\n",
    "fig, ax_all = plt.subplots(ncols=4, nrows=3, figsize=(15, 6))\n",
    "for i, (wd_, ax) in enumerate(zip(yaw_opt.wd.values, ax_all.flatten())):\n",
    "    power_delta.sel(wd=wd_).plot(\n",
    "        ax=ax, vmin=power_delta.min(), vmax=power_delta.max(), cmap=utils.cmap\n",
    "    )\n",
    "    ax.grid()\n",
    "    ax.set_yticks(sim_res_opt.wt)\n",
    "fig.tight_layout()"
   ]
  },
  {
   "cell_type": "markdown",
   "metadata": {},
   "source": [
    "Observations\n",
    "- Directions with minimal improvement either have minimal wake losses or are aligned with the wind farm layout and causes large yaw angle and subsequently high losses in the upstream turbine\n",
    "- Directions which show the most improvement have a mild wake overlap which only requires a small yaw angle for steering\n",
    "- The wind speed at which optimum power is recoered is highly dependent on direction\n",
    "- Non-zero yaw values at wind speeds above rated speed are not to increase energy yield (as rated power is already acheived) but to reduce turbulence based increases in downtime\n",
    "- At freestream wind speeds near the rated wind speed, the upstream turbine yaws more as the loss in wind speed has a smaller impact on its power reduction\n",
    "- At freestream wind speeds near the cut in wind speed, the upstream turbine yaws less as the loss in wind speed has a smaller impact on its power reduction due to the low power curve gradient\n"
   ]
  },
  {
   "cell_type": "markdown",
   "metadata": {},
   "source": [
    "## Follow-up questions\n",
    "- Why is there such disagreement between low and high fidelity models? (wd=30)\n",
    "- Assess 0 vs 180 diffferences\n",
    "- Assess why 90 and 270 not monotonic"
   ]
  },
  {
   "cell_type": "markdown",
   "metadata": {},
   "source": [
    "### Why are optimum yaw values not monotonically tending to 0?"
   ]
  },
  {
   "cell_type": "code",
   "execution_count": null,
   "metadata": {},
   "outputs": [],
   "source": [
    "wd_ = 90\n",
    "yaw = np.arange(0, 20.00001, 0.5)\n",
    "sim_res_all = [\n",
    "    utils.run_sim(\n",
    "        wfm=utils.wfm_high,\n",
    "        x=utils.wt9_x,\n",
    "        y=utils.wt9_y,\n",
    "        yaw=[0, 0, 0, 0, 0, 0, yaw_, yaw_, yaw_],\n",
    "        ws=ws,\n",
    "        wd=[wd_],\n",
    "        sim_res_ref=sim_res_ref_high.sel(wd=[wd_]),\n",
    "        Sector_frequency=Sector_frequency,\n",
    "        P=P,\n",
    "    )[0]\n",
    "    for yaw_ in yaw\n",
    "]\n",
    "Power = xr.concat([x.Power for x in sim_res_all], dim=pd.Index(yaw, name=\"yaw\"))\n",
    "WS_eff = xr.concat([x.WS_eff for x in sim_res_all], dim=pd.Index(yaw, name=\"yaw\"))"
   ]
  },
  {
   "cell_type": "code",
   "execution_count": null,
   "metadata": {},
   "outputs": [],
   "source": [
    "fig, ax_all = plt.subplots(ncols=3, nrows=2, figsize=(15, 4))\n",
    "vmin_ = (WS_eff.sel(wd=wd_) - WS_eff.sel(wd=wd_, yaw=yaw[0])).min()\n",
    "vmax_ = (WS_eff.sel(wd=wd_) - WS_eff.sel(wd=wd_, yaw=yaw[0])).max()\n",
    "for wt_, ax in zip(range(6), ax_all.flatten()):\n",
    "    (WS_eff.sel(wd=wd_, wt=wt_) - WS_eff.sel(wd=wd_, wt=wt_, yaw=yaw[0])).plot(\n",
    "        ax=ax, vmin=vmin_, vmax=vmax_\n",
    "    )\n",
    "fig.tight_layout()"
   ]
  },
  {
   "cell_type": "code",
   "execution_count": null,
   "metadata": {},
   "outputs": [],
   "source": [
    "fig, ax_all = plt.subplots(ncols=3, nrows=3, figsize=(15, 6))\n",
    "vmin_ = (Power.sel(wd=wd_) - Power.sel(wd=wd_, yaw=yaw[0])).min()\n",
    "vmax_ = (Power.sel(wd=wd_) - Power.sel(wd=wd_, yaw=yaw[0])).max()\n",
    "for wt_, ax in zip(range(9), ax_all.flatten()):\n",
    "    (Power.sel(wd=wd_, wt=wt_) - Power.sel(wd=wd_, wt=wt_, yaw=yaw[0])).plot(\n",
    "        ax=ax, vmin=vmin_, vmax=vmax_\n",
    "    )\n",
    "fig.tight_layout()"
   ]
  },
  {
   "cell_type": "code",
   "execution_count": null,
   "metadata": {},
   "outputs": [],
   "source": [
    "fig, ax = plt.subplots(figsize=(15, 4))\n",
    "(Power.sel(wd=wd_) - Power.sel(wd=wd_, yaw=yaw[0])).sum(\"wt\").clip(min=0).plot(ax=ax)\n",
    "Power.sel(wd=wd_).sum(\"wt\").idxmax(dim=\"yaw\").plot(ax=ax)\n",
    "fig.tight_layout()"
   ]
  }
 ],
 "metadata": {
  "kernelspec": {
   "display_name": "env",
   "language": "python",
   "name": "python3"
  },
  "language_info": {
   "codemirror_mode": {
    "name": "ipython",
    "version": 3
   },
   "file_extension": ".py",
   "mimetype": "text/x-python",
   "name": "python",
   "nbconvert_exporter": "python",
   "pygments_lexer": "ipython3",
   "version": "3.12.1"
  }
 },
 "nbformat": 4,
 "nbformat_minor": 2
}
